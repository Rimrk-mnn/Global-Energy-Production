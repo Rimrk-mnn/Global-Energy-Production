{
 "cells": [
  {
   "cell_type": "markdown",
   "id": "7ae98fb5",
   "metadata": {},
   "source": [
    "# Preparing data for tableau"
   ]
  },
  {
   "cell_type": "markdown",
   "id": "28fbd691",
   "metadata": {},
   "source": [
    "a) import Libraries & original dataset"
   ]
  },
  {
   "cell_type": "markdown",
   "id": "7cc89fd9",
   "metadata": {},
   "source": [
    "b) group data by country & source"
   ]
  },
  {
   "cell_type": "markdown",
   "id": "30726e1b",
   "metadata": {},
   "source": [
    "## part 2"
   ]
  },
  {
   "cell_type": "markdown",
   "id": "816526f1",
   "metadata": {},
   "source": [
    "c) import data energy per capita & grouped data by country excl. source"
   ]
  },
  {
   "cell_type": "code",
   "execution_count": 33,
   "id": "2256127c",
   "metadata": {},
   "outputs": [],
   "source": [
    "# a) import libraries\n",
    "import pandas as pd\n",
    "import numpy as np\n",
    "import seaborn as sns\n",
    "import matplotlib\n",
    "import matplotlib.pyplot as plt\n",
    "import os\n",
    "import sklearn\n",
    "from sklearn.model_selection import train_test_split \n",
    "from sklearn.linear_model import LinearRegression\n",
    "from sklearn.metrics import mean_squared_error, r2_score"
   ]
  },
  {
   "cell_type": "code",
   "execution_count": 34,
   "id": "3a05fa88",
   "metadata": {},
   "outputs": [],
   "source": [
    "# set path\n",
    "path = r'C:\\Users\\rieke\\Data Analytics\\Achievement 6\\02 Data'"
   ]
  },
  {
   "cell_type": "code",
   "execution_count": 35,
   "id": "65119469",
   "metadata": {},
   "outputs": [],
   "source": [
    "df = pd.read_csv(os.path.join(path, '02 Prepared Data', 'DF1_renew_clean.csv'), index_col = False)"
   ]
  },
  {
   "cell_type": "code",
   "execution_count": 36,
   "id": "b955f46e",
   "metadata": {},
   "outputs": [],
   "source": [
    "df = df.drop(columns = ['Unnamed: 0'])"
   ]
  },
  {
   "cell_type": "code",
   "execution_count": 37,
   "id": "15d49a1f",
   "metadata": {},
   "outputs": [
    {
     "data": {
      "text/html": [
       "<div>\n",
       "<style scoped>\n",
       "    .dataframe tbody tr th:only-of-type {\n",
       "        vertical-align: middle;\n",
       "    }\n",
       "\n",
       "    .dataframe tbody tr th {\n",
       "        vertical-align: top;\n",
       "    }\n",
       "\n",
       "    .dataframe thead th {\n",
       "        text-align: right;\n",
       "    }\n",
       "</style>\n",
       "<table border=\"1\" class=\"dataframe\">\n",
       "  <thead>\n",
       "    <tr style=\"text-align: right;\">\n",
       "      <th></th>\n",
       "      <th>COUNTRY</th>\n",
       "      <th>CODE_TIME</th>\n",
       "      <th>TIME</th>\n",
       "      <th>YEAR</th>\n",
       "      <th>MONTH</th>\n",
       "      <th>MONTH_NAME</th>\n",
       "      <th>PRODUCT</th>\n",
       "      <th>VALUE</th>\n",
       "      <th>DISPLAY_ORDER</th>\n",
       "      <th>yearToDate</th>\n",
       "      <th>share</th>\n",
       "    </tr>\n",
       "  </thead>\n",
       "  <tbody>\n",
       "    <tr>\n",
       "      <th>0</th>\n",
       "      <td>Australia</td>\n",
       "      <td>JAN2010</td>\n",
       "      <td>January 2010</td>\n",
       "      <td>2010</td>\n",
       "      <td>1</td>\n",
       "      <td>January</td>\n",
       "      <td>Hydro</td>\n",
       "      <td>990.728</td>\n",
       "      <td>1</td>\n",
       "      <td>16471.891</td>\n",
       "      <td>0.047771</td>\n",
       "    </tr>\n",
       "    <tr>\n",
       "      <th>1</th>\n",
       "      <td>Australia</td>\n",
       "      <td>JAN2010</td>\n",
       "      <td>January 2010</td>\n",
       "      <td>2010</td>\n",
       "      <td>1</td>\n",
       "      <td>January</td>\n",
       "      <td>Wind</td>\n",
       "      <td>409.469</td>\n",
       "      <td>2</td>\n",
       "      <td>4940.909</td>\n",
       "      <td>0.019744</td>\n",
       "    </tr>\n",
       "    <tr>\n",
       "      <th>2</th>\n",
       "      <td>Australia</td>\n",
       "      <td>JAN2010</td>\n",
       "      <td>January 2010</td>\n",
       "      <td>2010</td>\n",
       "      <td>1</td>\n",
       "      <td>January</td>\n",
       "      <td>Solar</td>\n",
       "      <td>49.216</td>\n",
       "      <td>3</td>\n",
       "      <td>908.238</td>\n",
       "      <td>0.002373</td>\n",
       "    </tr>\n",
       "    <tr>\n",
       "      <th>3</th>\n",
       "      <td>Australia</td>\n",
       "      <td>JAN2010</td>\n",
       "      <td>January 2010</td>\n",
       "      <td>2010</td>\n",
       "      <td>1</td>\n",
       "      <td>January</td>\n",
       "      <td>Geothermal</td>\n",
       "      <td>0.083</td>\n",
       "      <td>4</td>\n",
       "      <td>0.996</td>\n",
       "      <td>0.000004</td>\n",
       "    </tr>\n",
       "    <tr>\n",
       "      <th>4</th>\n",
       "      <td>Australia</td>\n",
       "      <td>JAN2010</td>\n",
       "      <td>January 2010</td>\n",
       "      <td>2010</td>\n",
       "      <td>1</td>\n",
       "      <td>January</td>\n",
       "      <td>Total combustible fuels</td>\n",
       "      <td>19289.730</td>\n",
       "      <td>7</td>\n",
       "      <td>214302.969</td>\n",
       "      <td>0.930108</td>\n",
       "    </tr>\n",
       "  </tbody>\n",
       "</table>\n",
       "</div>"
      ],
      "text/plain": [
       "     COUNTRY CODE_TIME          TIME  YEAR  MONTH MONTH_NAME  \\\n",
       "0  Australia   JAN2010  January 2010  2010      1    January   \n",
       "1  Australia   JAN2010  January 2010  2010      1    January   \n",
       "2  Australia   JAN2010  January 2010  2010      1    January   \n",
       "3  Australia   JAN2010  January 2010  2010      1    January   \n",
       "4  Australia   JAN2010  January 2010  2010      1    January   \n",
       "\n",
       "                   PRODUCT      VALUE  DISPLAY_ORDER  yearToDate     share  \n",
       "0                    Hydro    990.728              1   16471.891  0.047771  \n",
       "1                     Wind    409.469              2    4940.909  0.019744  \n",
       "2                    Solar     49.216              3     908.238  0.002373  \n",
       "3               Geothermal      0.083              4       0.996  0.000004  \n",
       "4  Total combustible fuels  19289.730              7  214302.969  0.930108  "
      ]
     },
     "execution_count": 37,
     "metadata": {},
     "output_type": "execute_result"
    }
   ],
   "source": [
    "df.head()"
   ]
  },
  {
   "cell_type": "code",
   "execution_count": 38,
   "id": "3ec5935b",
   "metadata": {},
   "outputs": [
    {
     "data": {
      "text/plain": [
       "Index(['COUNTRY', 'CODE_TIME', 'TIME', 'YEAR', 'MONTH', 'MONTH_NAME',\n",
       "       'PRODUCT', 'VALUE', 'DISPLAY_ORDER', 'yearToDate', 'share'],\n",
       "      dtype='object')"
      ]
     },
     "execution_count": 38,
     "metadata": {},
     "output_type": "execute_result"
    }
   ],
   "source": [
    "df.columns"
   ]
  },
  {
   "cell_type": "markdown",
   "id": "32134e68",
   "metadata": {},
   "source": [
    "b) gourp data by country and source"
   ]
  },
  {
   "cell_type": "code",
   "execution_count": 39,
   "id": "a06d9976",
   "metadata": {},
   "outputs": [
    {
     "name": "stdout",
     "output_type": "stream",
     "text": [
      "            COUNTRY                  PRODUCT  count_of_sources     mean_value\n",
      "0         Argentina                     Coal                94     191.736012\n",
      "1         Argentina   Combustible renewables                96     146.505351\n",
      "2         Argentina      Distribution losses                84     -62.736786\n",
      "3         Argentina     Electricity supplied                96   11644.736925\n",
      "4         Argentina        Electricity trade                84     -29.631012\n",
      "...             ...                      ...               ...            ...\n",
      "1392  United States  Total combustible fuels               156  227953.171413\n",
      "1393  United States            Total exports               156    1353.673978\n",
      "1394  United States            Total imports               156    5131.957848\n",
      "1395  United States  Used for pumped storage               156    2249.517924\n",
      "1396  United States                     Wind               156   19850.676086\n",
      "\n",
      "[1397 rows x 4 columns]\n"
     ]
    }
   ],
   "source": [
    "df1 = df.groupby(['COUNTRY', 'PRODUCT']).agg({'PRODUCT':'count', 'VALUE':'mean'})\\\n",
    ".rename(columns={'PRODUCT':'count_of_sources','VALUE':'mean_value'})\\\n",
    ".reset_index()\n",
    "print (df1)"
   ]
  },
  {
   "cell_type": "code",
   "execution_count": 40,
   "id": "4d31a80a",
   "metadata": {},
   "outputs": [],
   "source": [
    "# deleting geographical region summaries to exclude outliers and see the single countries only\n",
    "list1 = ['IEA Total', 'OECD Americas', 'OECD Asia Oceania', 'OECD Europe', 'OECD Total']"
   ]
  },
  {
   "cell_type": "code",
   "execution_count": 41,
   "id": "49362542",
   "metadata": {},
   "outputs": [
    {
     "name": "stdout",
     "output_type": "stream",
     "text": [
      "            COUNTRY                  PRODUCT  count_of_sources     mean_value\n",
      "0         Argentina                     Coal                94     191.736012\n",
      "1         Argentina   Combustible renewables                96     146.505351\n",
      "2         Argentina      Distribution losses                84     -62.736786\n",
      "3         Argentina     Electricity supplied                96   11644.736925\n",
      "4         Argentina        Electricity trade                84     -29.631012\n",
      "...             ...                      ...               ...            ...\n",
      "1392  United States  Total combustible fuels               156  227953.171413\n",
      "1393  United States            Total exports               156    1353.673978\n",
      "1394  United States            Total imports               156    5131.957848\n",
      "1395  United States  Used for pumped storage               156    2249.517924\n",
      "1396  United States                     Wind               156   19850.676086\n",
      "\n",
      "[1262 rows x 4 columns]\n"
     ]
    }
   ],
   "source": [
    "print(df1[df1.COUNTRY.isin(list1) == False])"
   ]
  },
  {
   "cell_type": "code",
   "execution_count": 42,
   "id": "0cad9f27",
   "metadata": {},
   "outputs": [],
   "source": [
    "df1.to_excel(os.path.join(path, '02 Prepared Data', 'grouped data incl. prod 2010-2022.xlsx'))"
   ]
  },
  {
   "cell_type": "markdown",
   "id": "c3e76b93",
   "metadata": {},
   "source": [
    "## Part 2"
   ]
  },
  {
   "cell_type": "code",
   "execution_count": 12,
   "id": "24eecc90",
   "metadata": {},
   "outputs": [],
   "source": [
    "df2 = pd.read_csv(os.path.join(path, '01 Original Data', 'per-capita-energy-stacked.csv'), index_col = False)"
   ]
  },
  {
   "cell_type": "code",
   "execution_count": 15,
   "id": "f03d6ac6",
   "metadata": {},
   "outputs": [
    {
     "data": {
      "text/plain": [
       "(4869, 11)"
      ]
     },
     "execution_count": 15,
     "metadata": {},
     "output_type": "execute_result"
    }
   ],
   "source": [
    "df2.shape"
   ]
  },
  {
   "cell_type": "code",
   "execution_count": 16,
   "id": "ded11e1d",
   "metadata": {},
   "outputs": [
    {
     "data": {
      "text/html": [
       "<div>\n",
       "<style scoped>\n",
       "    .dataframe tbody tr th:only-of-type {\n",
       "        vertical-align: middle;\n",
       "    }\n",
       "\n",
       "    .dataframe tbody tr th {\n",
       "        vertical-align: top;\n",
       "    }\n",
       "\n",
       "    .dataframe thead th {\n",
       "        text-align: right;\n",
       "    }\n",
       "</style>\n",
       "<table border=\"1\" class=\"dataframe\">\n",
       "  <thead>\n",
       "    <tr style=\"text-align: right;\">\n",
       "      <th></th>\n",
       "      <th>Entity</th>\n",
       "      <th>Code</th>\n",
       "      <th>Year</th>\n",
       "      <th>Coal per capita (kWh)</th>\n",
       "      <th>Oil per capita (kWh)</th>\n",
       "      <th>Gas per capita (kWh)</th>\n",
       "      <th>Nuclear per capita (kWh - equivalent)</th>\n",
       "      <th>Hydro per capita (kWh - equivalent)</th>\n",
       "      <th>Wind per capita (kWh - equivalent)</th>\n",
       "      <th>Solar per capita (kWh - equivalent)</th>\n",
       "      <th>Other renewables per capita (kWh - equivalent)</th>\n",
       "    </tr>\n",
       "  </thead>\n",
       "  <tbody>\n",
       "    <tr>\n",
       "      <th>0</th>\n",
       "      <td>Africa</td>\n",
       "      <td>NaN</td>\n",
       "      <td>1965</td>\n",
       "      <td>1006.37360</td>\n",
       "      <td>1061.6443</td>\n",
       "      <td>29.689943</td>\n",
       "      <td>0.0</td>\n",
       "      <td>127.91771</td>\n",
       "      <td>0.0</td>\n",
       "      <td>NaN</td>\n",
       "      <td>NaN</td>\n",
       "    </tr>\n",
       "    <tr>\n",
       "      <th>1</th>\n",
       "      <td>Africa</td>\n",
       "      <td>NaN</td>\n",
       "      <td>1966</td>\n",
       "      <td>980.17280</td>\n",
       "      <td>1120.8165</td>\n",
       "      <td>32.366585</td>\n",
       "      <td>0.0</td>\n",
       "      <td>139.12256</td>\n",
       "      <td>0.0</td>\n",
       "      <td>NaN</td>\n",
       "      <td>NaN</td>\n",
       "    </tr>\n",
       "    <tr>\n",
       "      <th>2</th>\n",
       "      <td>Africa</td>\n",
       "      <td>NaN</td>\n",
       "      <td>1967</td>\n",
       "      <td>976.73180</td>\n",
       "      <td>1088.6127</td>\n",
       "      <td>31.185446</td>\n",
       "      <td>0.0</td>\n",
       "      <td>141.57660</td>\n",
       "      <td>0.0</td>\n",
       "      <td>NaN</td>\n",
       "      <td>NaN</td>\n",
       "    </tr>\n",
       "    <tr>\n",
       "      <th>3</th>\n",
       "      <td>Africa</td>\n",
       "      <td>NaN</td>\n",
       "      <td>1968</td>\n",
       "      <td>990.00653</td>\n",
       "      <td>1121.6766</td>\n",
       "      <td>30.805683</td>\n",
       "      <td>0.0</td>\n",
       "      <td>161.39375</td>\n",
       "      <td>0.0</td>\n",
       "      <td>NaN</td>\n",
       "      <td>NaN</td>\n",
       "    </tr>\n",
       "    <tr>\n",
       "      <th>4</th>\n",
       "      <td>Africa</td>\n",
       "      <td>NaN</td>\n",
       "      <td>1969</td>\n",
       "      <td>973.52277</td>\n",
       "      <td>1114.7306</td>\n",
       "      <td>35.082924</td>\n",
       "      <td>0.0</td>\n",
       "      <td>183.53687</td>\n",
       "      <td>0.0</td>\n",
       "      <td>NaN</td>\n",
       "      <td>NaN</td>\n",
       "    </tr>\n",
       "  </tbody>\n",
       "</table>\n",
       "</div>"
      ],
      "text/plain": [
       "   Entity Code  Year  Coal per capita (kWh)  Oil per capita (kWh)  \\\n",
       "0  Africa  NaN  1965             1006.37360             1061.6443   \n",
       "1  Africa  NaN  1966              980.17280             1120.8165   \n",
       "2  Africa  NaN  1967              976.73180             1088.6127   \n",
       "3  Africa  NaN  1968              990.00653             1121.6766   \n",
       "4  Africa  NaN  1969              973.52277             1114.7306   \n",
       "\n",
       "   Gas per capita (kWh)  Nuclear per capita (kWh - equivalent)  \\\n",
       "0             29.689943                                    0.0   \n",
       "1             32.366585                                    0.0   \n",
       "2             31.185446                                    0.0   \n",
       "3             30.805683                                    0.0   \n",
       "4             35.082924                                    0.0   \n",
       "\n",
       "   Hydro per capita (kWh - equivalent)  Wind per capita (kWh - equivalent)  \\\n",
       "0                            127.91771                                 0.0   \n",
       "1                            139.12256                                 0.0   \n",
       "2                            141.57660                                 0.0   \n",
       "3                            161.39375                                 0.0   \n",
       "4                            183.53687                                 0.0   \n",
       "\n",
       "   Solar per capita (kWh - equivalent)  \\\n",
       "0                                  NaN   \n",
       "1                                  NaN   \n",
       "2                                  NaN   \n",
       "3                                  NaN   \n",
       "4                                  NaN   \n",
       "\n",
       "   Other renewables per capita (kWh - equivalent)  \n",
       "0                                             NaN  \n",
       "1                                             NaN  \n",
       "2                                             NaN  \n",
       "3                                             NaN  \n",
       "4                                             NaN  "
      ]
     },
     "execution_count": 16,
     "metadata": {},
     "output_type": "execute_result"
    }
   ],
   "source": [
    "df2.head()"
   ]
  },
  {
   "cell_type": "code",
   "execution_count": 17,
   "id": "00b39357",
   "metadata": {},
   "outputs": [
    {
     "data": {
      "text/html": [
       "<div>\n",
       "<style scoped>\n",
       "    .dataframe tbody tr th:only-of-type {\n",
       "        vertical-align: middle;\n",
       "    }\n",
       "\n",
       "    .dataframe tbody tr th {\n",
       "        vertical-align: top;\n",
       "    }\n",
       "\n",
       "    .dataframe thead th {\n",
       "        text-align: right;\n",
       "    }\n",
       "</style>\n",
       "<table border=\"1\" class=\"dataframe\">\n",
       "  <thead>\n",
       "    <tr style=\"text-align: right;\">\n",
       "      <th></th>\n",
       "      <th>Entity</th>\n",
       "      <th>Code</th>\n",
       "      <th>Year</th>\n",
       "      <th>Coal per capita (kWh)</th>\n",
       "      <th>Oil per capita (kWh)</th>\n",
       "      <th>Gas per capita (kWh)</th>\n",
       "      <th>Nuclear per capita (kWh - equivalent)</th>\n",
       "      <th>Hydro per capita (kWh - equivalent)</th>\n",
       "      <th>Wind per capita (kWh - equivalent)</th>\n",
       "      <th>Solar per capita (kWh - equivalent)</th>\n",
       "      <th>Other renewables per capita (kWh - equivalent)</th>\n",
       "    </tr>\n",
       "  </thead>\n",
       "  <tbody>\n",
       "    <tr>\n",
       "      <th>4864</th>\n",
       "      <td>World</td>\n",
       "      <td>OWID_WRL</td>\n",
       "      <td>2017</td>\n",
       "      <td>5756.9340</td>\n",
       "      <td>6910.1016</td>\n",
       "      <td>4806.5890</td>\n",
       "      <td>886.18823</td>\n",
       "      <td>1425.2183</td>\n",
       "      <td>399.34050</td>\n",
       "      <td>155.99246</td>\n",
       "      <td>243.51358</td>\n",
       "    </tr>\n",
       "    <tr>\n",
       "      <th>4865</th>\n",
       "      <td>World</td>\n",
       "      <td>OWID_WRL</td>\n",
       "      <td>2018</td>\n",
       "      <td>5767.4500</td>\n",
       "      <td>6930.2550</td>\n",
       "      <td>4991.8460</td>\n",
       "      <td>892.27020</td>\n",
       "      <td>1440.3722</td>\n",
       "      <td>437.28662</td>\n",
       "      <td>198.41116</td>\n",
       "      <td>259.74496</td>\n",
       "    </tr>\n",
       "    <tr>\n",
       "      <th>4866</th>\n",
       "      <td>World</td>\n",
       "      <td>OWID_WRL</td>\n",
       "      <td>2019</td>\n",
       "      <td>5627.8380</td>\n",
       "      <td>6873.0150</td>\n",
       "      <td>5030.6750</td>\n",
       "      <td>910.92520</td>\n",
       "      <td>1436.4279</td>\n",
       "      <td>482.23290</td>\n",
       "      <td>238.97023</td>\n",
       "      <td>269.82242</td>\n",
       "    </tr>\n",
       "    <tr>\n",
       "      <th>4867</th>\n",
       "      <td>World</td>\n",
       "      <td>OWID_WRL</td>\n",
       "      <td>2020</td>\n",
       "      <td>5351.8955</td>\n",
       "      <td>6170.2590</td>\n",
       "      <td>4904.4710</td>\n",
       "      <td>865.87714</td>\n",
       "      <td>1455.6683</td>\n",
       "      <td>534.71590</td>\n",
       "      <td>283.44043</td>\n",
       "      <td>278.75745</td>\n",
       "    </tr>\n",
       "    <tr>\n",
       "      <th>4868</th>\n",
       "      <td>World</td>\n",
       "      <td>OWID_WRL</td>\n",
       "      <td>2021</td>\n",
       "      <td>5622.9023</td>\n",
       "      <td>6469.6636</td>\n",
       "      <td>5104.7036</td>\n",
       "      <td>888.99695</td>\n",
       "      <td>1413.9346</td>\n",
       "      <td>615.99610</td>\n",
       "      <td>341.58823</td>\n",
       "      <td>300.03920</td>\n",
       "    </tr>\n",
       "  </tbody>\n",
       "</table>\n",
       "</div>"
      ],
      "text/plain": [
       "     Entity      Code  Year  Coal per capita (kWh)  Oil per capita (kWh)  \\\n",
       "4864  World  OWID_WRL  2017              5756.9340             6910.1016   \n",
       "4865  World  OWID_WRL  2018              5767.4500             6930.2550   \n",
       "4866  World  OWID_WRL  2019              5627.8380             6873.0150   \n",
       "4867  World  OWID_WRL  2020              5351.8955             6170.2590   \n",
       "4868  World  OWID_WRL  2021              5622.9023             6469.6636   \n",
       "\n",
       "      Gas per capita (kWh)  Nuclear per capita (kWh - equivalent)  \\\n",
       "4864             4806.5890                              886.18823   \n",
       "4865             4991.8460                              892.27020   \n",
       "4866             5030.6750                              910.92520   \n",
       "4867             4904.4710                              865.87714   \n",
       "4868             5104.7036                              888.99695   \n",
       "\n",
       "      Hydro per capita (kWh - equivalent)  Wind per capita (kWh - equivalent)  \\\n",
       "4864                            1425.2183                           399.34050   \n",
       "4865                            1440.3722                           437.28662   \n",
       "4866                            1436.4279                           482.23290   \n",
       "4867                            1455.6683                           534.71590   \n",
       "4868                            1413.9346                           615.99610   \n",
       "\n",
       "      Solar per capita (kWh - equivalent)  \\\n",
       "4864                            155.99246   \n",
       "4865                            198.41116   \n",
       "4866                            238.97023   \n",
       "4867                            283.44043   \n",
       "4868                            341.58823   \n",
       "\n",
       "      Other renewables per capita (kWh - equivalent)  \n",
       "4864                                       243.51358  \n",
       "4865                                       259.74496  \n",
       "4866                                       269.82242  \n",
       "4867                                       278.75745  \n",
       "4868                                       300.03920  "
      ]
     },
     "execution_count": 17,
     "metadata": {},
     "output_type": "execute_result"
    }
   ],
   "source": [
    "df2.tail()"
   ]
  },
  {
   "cell_type": "code",
   "execution_count": 19,
   "id": "9cf9d796",
   "metadata": {},
   "outputs": [
    {
     "data": {
      "text/plain": [
       "Index(['Entity', 'Code', 'Year', 'Coal per capita (kWh)',\n",
       "       'Oil per capita (kWh)', 'Gas per capita (kWh)',\n",
       "       'Nuclear per capita (kWh - equivalent)',\n",
       "       'Hydro per capita (kWh - equivalent)',\n",
       "       'Wind per capita (kWh - equivalent)',\n",
       "       'Solar per capita (kWh - equivalent)',\n",
       "       'Other renewables per capita (kWh - equivalent)'],\n",
       "      dtype='object')"
      ]
     },
     "execution_count": 19,
     "metadata": {},
     "output_type": "execute_result"
    }
   ],
   "source": [
    "df2.columns"
   ]
  }
 ],
 "metadata": {
  "kernelspec": {
   "display_name": "Python 3 (ipykernel)",
   "language": "python",
   "name": "python3"
  },
  "language_info": {
   "codemirror_mode": {
    "name": "ipython",
    "version": 3
   },
   "file_extension": ".py",
   "mimetype": "text/x-python",
   "name": "python",
   "nbconvert_exporter": "python",
   "pygments_lexer": "ipython3",
   "version": "3.9.13"
  }
 },
 "nbformat": 4,
 "nbformat_minor": 5
}
