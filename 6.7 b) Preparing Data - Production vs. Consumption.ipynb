{
 "cells": [
  {
   "cell_type": "markdown",
   "id": "beee0ae6",
   "metadata": {},
   "source": [
    "6.7 b) Preparing Data "
   ]
  },
  {
   "cell_type": "code",
   "execution_count": null,
   "id": "aab49d47",
   "metadata": {},
   "outputs": [],
   "source": []
  },
  {
   "cell_type": "code",
   "execution_count": 1,
   "id": "a147a562",
   "metadata": {},
   "outputs": [],
   "source": [
    "# a) import libraries\n",
    "import pandas as pd\n",
    "import numpy as np\n",
    "import seaborn as sns\n",
    "import matplotlib\n",
    "import matplotlib.pyplot as plt\n",
    "import os"
   ]
  },
  {
   "cell_type": "code",
   "execution_count": 2,
   "id": "48c3cc42",
   "metadata": {},
   "outputs": [],
   "source": [
    "# set path\n",
    "path = r'C:\\Users\\rieke\\Data Analytics\\Achievement 6\\02 Data'"
   ]
  },
  {
   "cell_type": "code",
   "execution_count": 3,
   "id": "47c9ec37",
   "metadata": {},
   "outputs": [],
   "source": [
    "df = pd.read_csv(os.path.join(path, '02 Prepared Data', 'DF1_renew_clean.csv'), index_col = False)"
   ]
  },
  {
   "cell_type": "code",
   "execution_count": 4,
   "id": "8e50e5fc",
   "metadata": {},
   "outputs": [],
   "source": [
    "df = df.drop(columns = ['Unnamed: 0'])"
   ]
  },
  {
   "cell_type": "code",
   "execution_count": 5,
   "id": "8304968c",
   "metadata": {},
   "outputs": [
    {
     "data": {
      "text/html": [
       "<div>\n",
       "<style scoped>\n",
       "    .dataframe tbody tr th:only-of-type {\n",
       "        vertical-align: middle;\n",
       "    }\n",
       "\n",
       "    .dataframe tbody tr th {\n",
       "        vertical-align: top;\n",
       "    }\n",
       "\n",
       "    .dataframe thead th {\n",
       "        text-align: right;\n",
       "    }\n",
       "</style>\n",
       "<table border=\"1\" class=\"dataframe\">\n",
       "  <thead>\n",
       "    <tr style=\"text-align: right;\">\n",
       "      <th></th>\n",
       "      <th>COUNTRY</th>\n",
       "      <th>CODE_TIME</th>\n",
       "      <th>TIME</th>\n",
       "      <th>YEAR</th>\n",
       "      <th>MONTH</th>\n",
       "      <th>MONTH_NAME</th>\n",
       "      <th>PRODUCT</th>\n",
       "      <th>VALUE</th>\n",
       "      <th>DISPLAY_ORDER</th>\n",
       "      <th>yearToDate</th>\n",
       "      <th>share</th>\n",
       "    </tr>\n",
       "  </thead>\n",
       "  <tbody>\n",
       "    <tr>\n",
       "      <th>0</th>\n",
       "      <td>Australia</td>\n",
       "      <td>JAN2010</td>\n",
       "      <td>January 2010</td>\n",
       "      <td>2010</td>\n",
       "      <td>1</td>\n",
       "      <td>January</td>\n",
       "      <td>Hydro</td>\n",
       "      <td>990.728</td>\n",
       "      <td>1</td>\n",
       "      <td>16471.891</td>\n",
       "      <td>0.047771</td>\n",
       "    </tr>\n",
       "    <tr>\n",
       "      <th>1</th>\n",
       "      <td>Australia</td>\n",
       "      <td>JAN2010</td>\n",
       "      <td>January 2010</td>\n",
       "      <td>2010</td>\n",
       "      <td>1</td>\n",
       "      <td>January</td>\n",
       "      <td>Wind</td>\n",
       "      <td>409.469</td>\n",
       "      <td>2</td>\n",
       "      <td>4940.909</td>\n",
       "      <td>0.019744</td>\n",
       "    </tr>\n",
       "    <tr>\n",
       "      <th>2</th>\n",
       "      <td>Australia</td>\n",
       "      <td>JAN2010</td>\n",
       "      <td>January 2010</td>\n",
       "      <td>2010</td>\n",
       "      <td>1</td>\n",
       "      <td>January</td>\n",
       "      <td>Solar</td>\n",
       "      <td>49.216</td>\n",
       "      <td>3</td>\n",
       "      <td>908.238</td>\n",
       "      <td>0.002373</td>\n",
       "    </tr>\n",
       "    <tr>\n",
       "      <th>3</th>\n",
       "      <td>Australia</td>\n",
       "      <td>JAN2010</td>\n",
       "      <td>January 2010</td>\n",
       "      <td>2010</td>\n",
       "      <td>1</td>\n",
       "      <td>January</td>\n",
       "      <td>Geothermal</td>\n",
       "      <td>0.083</td>\n",
       "      <td>4</td>\n",
       "      <td>0.996</td>\n",
       "      <td>0.000004</td>\n",
       "    </tr>\n",
       "    <tr>\n",
       "      <th>4</th>\n",
       "      <td>Australia</td>\n",
       "      <td>JAN2010</td>\n",
       "      <td>January 2010</td>\n",
       "      <td>2010</td>\n",
       "      <td>1</td>\n",
       "      <td>January</td>\n",
       "      <td>Total combustible fuels</td>\n",
       "      <td>19289.730</td>\n",
       "      <td>7</td>\n",
       "      <td>214302.969</td>\n",
       "      <td>0.930108</td>\n",
       "    </tr>\n",
       "  </tbody>\n",
       "</table>\n",
       "</div>"
      ],
      "text/plain": [
       "     COUNTRY CODE_TIME          TIME  YEAR  MONTH MONTH_NAME  \\\n",
       "0  Australia   JAN2010  January 2010  2010      1    January   \n",
       "1  Australia   JAN2010  January 2010  2010      1    January   \n",
       "2  Australia   JAN2010  January 2010  2010      1    January   \n",
       "3  Australia   JAN2010  January 2010  2010      1    January   \n",
       "4  Australia   JAN2010  January 2010  2010      1    January   \n",
       "\n",
       "                   PRODUCT      VALUE  DISPLAY_ORDER  yearToDate     share  \n",
       "0                    Hydro    990.728              1   16471.891  0.047771  \n",
       "1                     Wind    409.469              2    4940.909  0.019744  \n",
       "2                    Solar     49.216              3     908.238  0.002373  \n",
       "3               Geothermal      0.083              4       0.996  0.000004  \n",
       "4  Total combustible fuels  19289.730              7  214302.969  0.930108  "
      ]
     },
     "execution_count": 5,
     "metadata": {},
     "output_type": "execute_result"
    }
   ],
   "source": [
    "df.head()"
   ]
  },
  {
   "cell_type": "code",
   "execution_count": 6,
   "id": "bf652924",
   "metadata": {},
   "outputs": [
    {
     "data": {
      "text/plain": [
       "COUNTRY\n",
       "IEA Total              4212\n",
       "OECD Europe            4212\n",
       "OECD Total             4212\n",
       "France                 4200\n",
       "OECD Americas          4188\n",
       "OECD Asia Oceania      4140\n",
       "United Kingdom         4140\n",
       "United States          4104\n",
       "Germany                4102\n",
       "Republic of Turkiye    4094\n",
       "Canada                 4080\n",
       "Portugal               4034\n",
       "Czech Republic         3996\n",
       "Austria                3996\n",
       "Belgium                3996\n",
       "Italy                  3996\n",
       "Slovak Republic        3985\n",
       "Spain                  3984\n",
       "Poland                 3960\n",
       "Mexico                 3959\n",
       "Netherlands            3954\n",
       "New Zealand            3926\n",
       "Slovenia               3909\n",
       "Finland                3888\n",
       "Sweden                 3887\n",
       "Switzerland            3876\n",
       "Norway                 3866\n",
       "Hungary                3858\n",
       "Luxembourg             3799\n",
       "Greece                 3791\n",
       "Japan                  3757\n",
       "Ireland                3756\n",
       "Korea                  3744\n",
       "Lithuania              3731\n",
       "Denmark                3672\n",
       "Latvia                 3618\n",
       "Estonia                3564\n",
       "Australia              3446\n",
       "Chile                  3347\n",
       "Iceland                2880\n",
       "Colombia               2548\n",
       "India                  2484\n",
       "Romania                2438\n",
       "Bulgaria               2436\n",
       "Argentina              2399\n",
       "Croatia                2347\n",
       "Brazil                 2340\n",
       "Serbia                 2314\n",
       "North Macedonia        2234\n",
       "Malta                  2034\n",
       "Cyprus                 2018\n",
       "Costa Rica              464\n",
       "dtype: int64"
      ]
     },
     "execution_count": 6,
     "metadata": {},
     "output_type": "execute_result"
    }
   ],
   "source": [
    "df.value_counts('COUNTRY')"
   ]
  },
  {
   "cell_type": "code",
   "execution_count": 7,
   "id": "6b7b761e",
   "metadata": {},
   "outputs": [],
   "source": [
    "# deleting geographical region summaries to exclude outliers and see the single countries only\n",
    "list1 = ['IEA Total', 'OECD Americas', 'OECD Asia Oceania', 'OECD Europe', 'OECD Total']"
   ]
  },
  {
   "cell_type": "code",
   "execution_count": 8,
   "id": "88ae2e18",
   "metadata": {},
   "outputs": [],
   "source": [
    "df = (df[df.COUNTRY.isin(list1) == False])"
   ]
  },
  {
   "cell_type": "code",
   "execution_count": 9,
   "id": "aecd3bc3",
   "metadata": {},
   "outputs": [
    {
     "data": {
      "text/plain": [
       "COUNTRY\n",
       "France                 4200\n",
       "United Kingdom         4140\n",
       "United States          4104\n",
       "Germany                4102\n",
       "Republic of Turkiye    4094\n",
       "Canada                 4080\n",
       "Portugal               4034\n",
       "Czech Republic         3996\n",
       "Italy                  3996\n",
       "Austria                3996\n",
       "Belgium                3996\n",
       "Slovak Republic        3985\n",
       "Spain                  3984\n",
       "Poland                 3960\n",
       "Mexico                 3959\n",
       "Netherlands            3954\n",
       "New Zealand            3926\n",
       "Slovenia               3909\n",
       "Finland                3888\n",
       "Sweden                 3887\n",
       "Switzerland            3876\n",
       "Norway                 3866\n",
       "Hungary                3858\n",
       "Luxembourg             3799\n",
       "Greece                 3791\n",
       "Japan                  3757\n",
       "Ireland                3756\n",
       "Korea                  3744\n",
       "Lithuania              3731\n",
       "Denmark                3672\n",
       "Latvia                 3618\n",
       "Estonia                3564\n",
       "Australia              3446\n",
       "Chile                  3347\n",
       "Iceland                2880\n",
       "Colombia               2548\n",
       "India                  2484\n",
       "Romania                2438\n",
       "Bulgaria               2436\n",
       "Argentina              2399\n",
       "Croatia                2347\n",
       "Brazil                 2340\n",
       "Serbia                 2314\n",
       "North Macedonia        2234\n",
       "Malta                  2034\n",
       "Cyprus                 2018\n",
       "Costa Rica              464\n",
       "dtype: int64"
      ]
     },
     "execution_count": 9,
     "metadata": {},
     "output_type": "execute_result"
    }
   ],
   "source": [
    "df.value_counts('COUNTRY')"
   ]
  },
  {
   "cell_type": "code",
   "execution_count": 10,
   "id": "e42b9517",
   "metadata": {},
   "outputs": [
    {
     "name": "stdout",
     "output_type": "stream",
     "text": [
      "           COUNTRY  YEAR  PRODUCT         VALUE\n",
      "0        Argentina  2015      307  9.474257e+05\n",
      "1        Argentina  2016      296  9.587725e+05\n",
      "2        Argentina  2017      297  9.428265e+05\n",
      "3        Argentina  2018      324  9.429776e+05\n",
      "4        Argentina  2019      324  8.923410e+05\n",
      "..             ...   ...      ...           ...\n",
      "541  United States  2018      324  2.841502e+07\n",
      "542  United States  2019      324  2.808453e+07\n",
      "543  United States  2020      324  2.706935e+07\n",
      "544  United States  2021      324  2.809176e+07\n",
      "545  United States  2022      312  2.885488e+07\n",
      "\n",
      "[546 rows x 4 columns]\n"
     ]
    }
   ],
   "source": [
    "df1 = df.groupby(['COUNTRY', 'YEAR']).agg({'PRODUCT':'count', 'VALUE':'sum'})\\\n",
    ".reset_index()\n",
    "print (df1)"
   ]
  },
  {
   "cell_type": "code",
   "execution_count": 45,
   "id": "1afd8455",
   "metadata": {},
   "outputs": [],
   "source": [
    "df1 = df1.rename(columns={'COUNTRY':'Country', 'YEAR':'Year','PRODUCT':'Prod_sources', 'VALUE':'Production Value (GWh)'})"
   ]
  },
  {
   "cell_type": "code",
   "execution_count": 46,
   "id": "ec1b13de",
   "metadata": {},
   "outputs": [
    {
     "name": "stdout",
     "output_type": "stream",
     "text": [
      "<class 'pandas.core.frame.DataFrame'>\n",
      "RangeIndex: 546 entries, 0 to 545\n",
      "Data columns (total 4 columns):\n",
      " #   Column                  Non-Null Count  Dtype  \n",
      "---  ------                  --------------  -----  \n",
      " 0   Country                 546 non-null    object \n",
      " 1   Year                    546 non-null    int64  \n",
      " 2   Prod_sources            546 non-null    int64  \n",
      " 3   Production Value (GWh)  546 non-null    float64\n",
      "dtypes: float64(1), int64(2), object(1)\n",
      "memory usage: 17.2+ KB\n"
     ]
    }
   ],
   "source": [
    "df1.info()"
   ]
  },
  {
   "cell_type": "code",
   "execution_count": 47,
   "id": "137329bb",
   "metadata": {},
   "outputs": [],
   "source": [
    "df1.to_excel(os.path.join(path, '02 Prepared Data', 'Anual Value by Country 2010-2022.xlsx'))"
   ]
  },
  {
   "cell_type": "markdown",
   "id": "92427e60",
   "metadata": {},
   "source": [
    "### Part 2 - Preparing dataset anual consumption by country"
   ]
  },
  {
   "cell_type": "code",
   "execution_count": 11,
   "id": "d1b377d3",
   "metadata": {},
   "outputs": [],
   "source": [
    "df2 = pd.read_csv(os.path.join(path, '01 Original Data', 'primary-energy-cons.csv'), index_col = False)"
   ]
  },
  {
   "cell_type": "code",
   "execution_count": 12,
   "id": "45a6e4e1",
   "metadata": {},
   "outputs": [
    {
     "data": {
      "text/html": [
       "<div>\n",
       "<style scoped>\n",
       "    .dataframe tbody tr th:only-of-type {\n",
       "        vertical-align: middle;\n",
       "    }\n",
       "\n",
       "    .dataframe tbody tr th {\n",
       "        vertical-align: top;\n",
       "    }\n",
       "\n",
       "    .dataframe thead th {\n",
       "        text-align: right;\n",
       "    }\n",
       "</style>\n",
       "<table border=\"1\" class=\"dataframe\">\n",
       "  <thead>\n",
       "    <tr style=\"text-align: right;\">\n",
       "      <th></th>\n",
       "      <th>Entity</th>\n",
       "      <th>Code</th>\n",
       "      <th>Year</th>\n",
       "      <th>Primary energy consumption (TWh)</th>\n",
       "    </tr>\n",
       "  </thead>\n",
       "  <tbody>\n",
       "    <tr>\n",
       "      <th>0</th>\n",
       "      <td>Afghanistan</td>\n",
       "      <td>AFG</td>\n",
       "      <td>1980</td>\n",
       "      <td>7.790772</td>\n",
       "    </tr>\n",
       "    <tr>\n",
       "      <th>1</th>\n",
       "      <td>Afghanistan</td>\n",
       "      <td>AFG</td>\n",
       "      <td>1981</td>\n",
       "      <td>8.777320</td>\n",
       "    </tr>\n",
       "    <tr>\n",
       "      <th>2</th>\n",
       "      <td>Afghanistan</td>\n",
       "      <td>AFG</td>\n",
       "      <td>1982</td>\n",
       "      <td>9.348327</td>\n",
       "    </tr>\n",
       "    <tr>\n",
       "      <th>3</th>\n",
       "      <td>Afghanistan</td>\n",
       "      <td>AFG</td>\n",
       "      <td>1983</td>\n",
       "      <td>11.436162</td>\n",
       "    </tr>\n",
       "    <tr>\n",
       "      <th>4</th>\n",
       "      <td>Afghanistan</td>\n",
       "      <td>AFG</td>\n",
       "      <td>1984</td>\n",
       "      <td>11.489043</td>\n",
       "    </tr>\n",
       "  </tbody>\n",
       "</table>\n",
       "</div>"
      ],
      "text/plain": [
       "        Entity Code  Year  Primary energy consumption (TWh)\n",
       "0  Afghanistan  AFG  1980                          7.790772\n",
       "1  Afghanistan  AFG  1981                          8.777320\n",
       "2  Afghanistan  AFG  1982                          9.348327\n",
       "3  Afghanistan  AFG  1983                         11.436162\n",
       "4  Afghanistan  AFG  1984                         11.489043"
      ]
     },
     "execution_count": 12,
     "metadata": {},
     "output_type": "execute_result"
    }
   ],
   "source": [
    "df2.head()"
   ]
  },
  {
   "cell_type": "code",
   "execution_count": 29,
   "id": "33b358bd",
   "metadata": {},
   "outputs": [
    {
     "name": "stdout",
     "output_type": "stream",
     "text": [
      "<class 'pandas.core.frame.DataFrame'>\n",
      "RangeIndex: 12151 entries, 0 to 12150\n",
      "Data columns (total 4 columns):\n",
      " #   Column                            Non-Null Count  Dtype  \n",
      "---  ------                            --------------  -----  \n",
      " 0   Entity                            12151 non-null  object \n",
      " 1   Code                              9691 non-null   object \n",
      " 2   Year                              12151 non-null  int64  \n",
      " 3   Primary energy consumption (TWh)  12151 non-null  float64\n",
      "dtypes: float64(1), int64(1), object(2)\n",
      "memory usage: 379.8+ KB\n"
     ]
    }
   ],
   "source": [
    "df2.info()"
   ]
  },
  {
   "cell_type": "code",
   "execution_count": 16,
   "id": "0369a2a7",
   "metadata": {},
   "outputs": [
    {
     "data": {
      "text/plain": [
       "(12151, 4)"
      ]
     },
     "execution_count": 16,
     "metadata": {},
     "output_type": "execute_result"
    }
   ],
   "source": [
    "df2.shape"
   ]
  },
  {
   "cell_type": "code",
   "execution_count": 40,
   "id": "5621c658",
   "metadata": {},
   "outputs": [],
   "source": [
    "df2 = df2.rename(columns={'Entity':'Country'})"
   ]
  },
  {
   "cell_type": "code",
   "execution_count": 41,
   "id": "45861f12",
   "metadata": {},
   "outputs": [
    {
     "name": "stdout",
     "output_type": "stream",
     "text": [
      "           Country Code  Year  Primary energy consumption (TWh)\n",
      "0      Afghanistan  AFG  1980                          7.790772\n",
      "1      Afghanistan  AFG  1981                          8.777320\n",
      "2      Afghanistan  AFG  1982                          9.348327\n",
      "3      Afghanistan  AFG  1983                         11.436162\n",
      "4      Afghanistan  AFG  1984                         11.489043\n",
      "...            ...  ...   ...                               ...\n",
      "12146     Zimbabwe  ZWE  2015                         54.651080\n",
      "12147     Zimbabwe  ZWE  2016                         46.665936\n",
      "12148     Zimbabwe  ZWE  2017                         45.936050\n",
      "12149     Zimbabwe  ZWE  2018                         47.502068\n",
      "12150     Zimbabwe  ZWE  2019                         49.426674\n",
      "\n",
      "[12151 rows x 4 columns]\n"
     ]
    }
   ],
   "source": [
    "print(df2)"
   ]
  },
  {
   "cell_type": "code",
   "execution_count": 42,
   "id": "19a080cf",
   "metadata": {},
   "outputs": [],
   "source": [
    "df2.to_csv(os.path.join(path, '02 Prepared Data', 'Comsumption data.csv'))"
   ]
  },
  {
   "cell_type": "markdown",
   "id": "cac27757",
   "metadata": {},
   "source": [
    "## merging datasets"
   ]
  },
  {
   "cell_type": "code",
   "execution_count": 48,
   "id": "ed14a0ac",
   "metadata": {
    "scrolled": true
   },
   "outputs": [
    {
     "name": "stdout",
     "output_type": "stream",
     "text": [
      "           Country  Year  Prod_sources  Production Value (GWh)\n",
      "0        Argentina  2015           307            9.474257e+05\n",
      "1        Argentina  2016           296            9.587725e+05\n",
      "2        Argentina  2017           297            9.428265e+05\n",
      "3        Argentina  2018           324            9.429776e+05\n",
      "4        Argentina  2019           324            8.923410e+05\n",
      "..             ...   ...           ...                     ...\n",
      "541  United States  2018           324            2.841502e+07\n",
      "542  United States  2019           324            2.808453e+07\n",
      "543  United States  2020           324            2.706935e+07\n",
      "544  United States  2021           324            2.809176e+07\n",
      "545  United States  2022           312            2.885488e+07\n",
      "\n",
      "[546 rows x 4 columns]\n"
     ]
    }
   ],
   "source": [
    "print(df1)"
   ]
  },
  {
   "cell_type": "code",
   "execution_count": 49,
   "id": "68f04e43",
   "metadata": {},
   "outputs": [
    {
     "name": "stdout",
     "output_type": "stream",
     "text": [
      "           Country Code  Year  Primary energy consumption (TWh)\n",
      "0      Afghanistan  AFG  1980                          7.790772\n",
      "1      Afghanistan  AFG  1981                          8.777320\n",
      "2      Afghanistan  AFG  1982                          9.348327\n",
      "3      Afghanistan  AFG  1983                         11.436162\n",
      "4      Afghanistan  AFG  1984                         11.489043\n",
      "...            ...  ...   ...                               ...\n",
      "12146     Zimbabwe  ZWE  2015                         54.651080\n",
      "12147     Zimbabwe  ZWE  2016                         46.665936\n",
      "12148     Zimbabwe  ZWE  2017                         45.936050\n",
      "12149     Zimbabwe  ZWE  2018                         47.502068\n",
      "12150     Zimbabwe  ZWE  2019                         49.426674\n",
      "\n",
      "[12151 rows x 4 columns]\n"
     ]
    }
   ],
   "source": [
    "print(df2)"
   ]
  },
  {
   "cell_type": "code",
   "execution_count": 50,
   "id": "c8678720",
   "metadata": {},
   "outputs": [],
   "source": [
    "df_merged = pd.merge(df1, df2, how='left', on=['Country','Year'])"
   ]
  },
  {
   "cell_type": "code",
   "execution_count": 51,
   "id": "2f406dcc",
   "metadata": {},
   "outputs": [
    {
     "data": {
      "text/plain": [
       "(546, 6)"
      ]
     },
     "execution_count": 51,
     "metadata": {},
     "output_type": "execute_result"
    }
   ],
   "source": [
    "df_merged.shape"
   ]
  },
  {
   "cell_type": "code",
   "execution_count": 52,
   "id": "533ef30f",
   "metadata": {},
   "outputs": [],
   "source": [
    "df_merged.to_csv(os.path.join(path, '02 Prepared Data', 'Comsumption vs Production.csv'))"
   ]
  },
  {
   "cell_type": "code",
   "execution_count": null,
   "id": "61d86ccd",
   "metadata": {},
   "outputs": [],
   "source": []
  }
 ],
 "metadata": {
  "kernelspec": {
   "display_name": "Python 3 (ipykernel)",
   "language": "python",
   "name": "python3"
  },
  "language_info": {
   "codemirror_mode": {
    "name": "ipython",
    "version": 3
   },
   "file_extension": ".py",
   "mimetype": "text/x-python",
   "name": "python",
   "nbconvert_exporter": "python",
   "pygments_lexer": "ipython3",
   "version": "3.9.13"
  }
 },
 "nbformat": 4,
 "nbformat_minor": 5
}
