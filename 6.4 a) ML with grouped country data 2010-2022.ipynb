{
 "cells": [
  {
   "cell_type": "markdown",
   "id": "db915326",
   "metadata": {},
   "source": [
    "# 6.4a) going through the ML steps again with data 2010-2022 grouped by country - number of sources & produce value"
   ]
  },
  {
   "cell_type": "code",
   "execution_count": null,
   "id": "24fb5b34",
   "metadata": {},
   "outputs": [],
   "source": []
  },
  {
   "cell_type": "code",
   "execution_count": 1,
   "id": "907be8ce",
   "metadata": {},
   "outputs": [],
   "source": [
    "# a) import libraries\n",
    "import pandas as pd\n",
    "import numpy as np\n",
    "import seaborn as sns\n",
    "import matplotlib\n",
    "import matplotlib.pyplot as plt\n",
    "import os\n",
    "import sklearn\n",
    "from sklearn.model_selection import train_test_split \n",
    "from sklearn.linear_model import LinearRegression\n",
    "from sklearn.metrics import mean_squared_error, r2_score"
   ]
  },
  {
   "cell_type": "code",
   "execution_count": 2,
   "id": "b417a62c",
   "metadata": {},
   "outputs": [],
   "source": [
    "# set path\n",
    "path = r'C:\\Users\\rieke\\Data Analytics\\Achievement 6\\02 Data'"
   ]
  },
  {
   "cell_type": "code",
   "execution_count": 10,
   "id": "5a66f2b9",
   "metadata": {},
   "outputs": [],
   "source": [
    "df = pd.read_excel(os.path.join(path, '02 Prepared Data', 'grouped data 2010-2022.xlsx'), index_col = False)"
   ]
  },
  {
   "cell_type": "code",
   "execution_count": 11,
   "id": "09c6e90c",
   "metadata": {},
   "outputs": [
    {
     "data": {
      "text/html": [
       "<div>\n",
       "<style scoped>\n",
       "    .dataframe tbody tr th:only-of-type {\n",
       "        vertical-align: middle;\n",
       "    }\n",
       "\n",
       "    .dataframe tbody tr th {\n",
       "        vertical-align: top;\n",
       "    }\n",
       "\n",
       "    .dataframe thead th {\n",
       "        text-align: right;\n",
       "    }\n",
       "</style>\n",
       "<table border=\"1\" class=\"dataframe\">\n",
       "  <thead>\n",
       "    <tr style=\"text-align: right;\">\n",
       "      <th></th>\n",
       "      <th>Unnamed: 0</th>\n",
       "      <th>COUNTRY</th>\n",
       "      <th>count_of_sources</th>\n",
       "      <th>mean_value</th>\n",
       "    </tr>\n",
       "  </thead>\n",
       "  <tbody>\n",
       "    <tr>\n",
       "      <th>0</th>\n",
       "      <td>0</td>\n",
       "      <td>Argentina</td>\n",
       "      <td>1757</td>\n",
       "      <td>4154.240981</td>\n",
       "    </tr>\n",
       "    <tr>\n",
       "      <th>1</th>\n",
       "      <td>1</td>\n",
       "      <td>Australia</td>\n",
       "      <td>3042</td>\n",
       "      <td>7173.119007</td>\n",
       "    </tr>\n",
       "    <tr>\n",
       "      <th>2</th>\n",
       "      <td>2</td>\n",
       "      <td>Austria</td>\n",
       "      <td>3781</td>\n",
       "      <td>1655.600531</td>\n",
       "    </tr>\n",
       "    <tr>\n",
       "      <th>3</th>\n",
       "      <td>3</td>\n",
       "      <td>Belgium</td>\n",
       "      <td>3795</td>\n",
       "      <td>1976.940823</td>\n",
       "    </tr>\n",
       "    <tr>\n",
       "      <th>4</th>\n",
       "      <td>4</td>\n",
       "      <td>Brazil</td>\n",
       "      <td>1800</td>\n",
       "      <td>16169.329967</td>\n",
       "    </tr>\n",
       "  </tbody>\n",
       "</table>\n",
       "</div>"
      ],
      "text/plain": [
       "   Unnamed: 0    COUNTRY  count_of_sources    mean_value\n",
       "0           0  Argentina              1757   4154.240981\n",
       "1           1  Australia              3042   7173.119007\n",
       "2           2    Austria              3781   1655.600531\n",
       "3           3    Belgium              3795   1976.940823\n",
       "4           4     Brazil              1800  16169.329967"
      ]
     },
     "execution_count": 11,
     "metadata": {},
     "output_type": "execute_result"
    }
   ],
   "source": [
    "df.head()"
   ]
  },
  {
   "cell_type": "code",
   "execution_count": 12,
   "id": "4e8474c5",
   "metadata": {},
   "outputs": [],
   "source": [
    "df = df.drop(columns = ['Unnamed: 0'])"
   ]
  },
  {
   "cell_type": "code",
   "execution_count": 13,
   "id": "816497d5",
   "metadata": {},
   "outputs": [],
   "source": [
    "# Reshape the variables into NumPy arrays and put them into separate objects.\n",
    "\n",
    "X = df['count_of_sources'].values.reshape(-1,1)\n",
    "y = df['mean_value'].values.reshape(-1,1)"
   ]
  },
  {
   "cell_type": "code",
   "execution_count": 14,
   "id": "304822ff",
   "metadata": {},
   "outputs": [
    {
     "data": {
      "text/plain": [
       "array([[1757],\n",
       "       [3042],\n",
       "       [3781],\n",
       "       [3795],\n",
       "       [1800],\n",
       "       [2283],\n",
       "       [3997],\n",
       "       [2915],\n",
       "       [2155],\n",
       "       [ 463],\n",
       "       [2022],\n",
       "       [1392],\n",
       "       [3900],\n",
       "       [3321],\n",
       "       [3272],\n",
       "       [3584],\n",
       "       [4181],\n",
       "       [4030],\n",
       "       [3442],\n",
       "       [3606],\n",
       "       [4106],\n",
       "       [2304],\n",
       "       [1785],\n",
       "       [3459],\n",
       "       [3744],\n",
       "       [3565],\n",
       "       [3543],\n",
       "       [2792],\n",
       "       [3383],\n",
       "       [3168],\n",
       "       [1389],\n",
       "       [3706],\n",
       "       [3626],\n",
       "       [3109],\n",
       "       [1801],\n",
       "       [3583],\n",
       "       [4066],\n",
       "       [3708],\n",
       "       [4079],\n",
       "       [4103],\n",
       "       [3586],\n",
       "       [3699],\n",
       "       [3602],\n",
       "       [2049],\n",
       "       [2026],\n",
       "       [3730],\n",
       "       [3636],\n",
       "       [3861],\n",
       "       [3726],\n",
       "       [3504],\n",
       "       [3761],\n",
       "       [3905]], dtype=int64)"
      ]
     },
     "execution_count": 14,
     "metadata": {},
     "output_type": "execute_result"
    }
   ],
   "source": [
    "X"
   ]
  },
  {
   "cell_type": "code",
   "execution_count": 15,
   "id": "4acbefd2",
   "metadata": {},
   "outputs": [
    {
     "data": {
      "text/plain": [
       "array([[4.15424098e+03],\n",
       "       [7.17311901e+03],\n",
       "       [1.65560053e+03],\n",
       "       [1.97694082e+03],\n",
       "       [1.61693300e+04],\n",
       "       [9.53597112e+02],\n",
       "       [1.28232925e+04],\n",
       "       [2.22854094e+03],\n",
       "       [2.05657352e+03],\n",
       "       [3.32667660e+02],\n",
       "       [4.24329304e+02],\n",
       "       [2.05553020e+02],\n",
       "       [1.82363956e+03],\n",
       "       [9.53832905e+02],\n",
       "       [2.99961576e+02],\n",
       "       [1.83863194e+03],\n",
       "       [1.03683470e+04],\n",
       "       [1.29913890e+04],\n",
       "       [1.37327910e+03],\n",
       "       [9.08018356e+02],\n",
       "       [2.21569210e+05],\n",
       "       [6.50996761e+02],\n",
       "       [4.32323821e+04],\n",
       "       [7.53489612e+02],\n",
       "       [7.09966983e+03],\n",
       "       [2.62758486e+04],\n",
       "       [1.32180805e+04],\n",
       "       [2.25859099e+02],\n",
       "       [2.23389425e+02],\n",
       "       [1.53901261e+02],\n",
       "       [7.88515500e+01],\n",
       "       [7.55025011e+03],\n",
       "       [2.94937974e+03],\n",
       "       [1.14571395e+03],\n",
       "       [1.73901432e+02],\n",
       "       [3.18613797e+03],\n",
       "       [1.11356211e+05],\n",
       "       [4.47377854e+04],\n",
       "       [7.49673631e+04],\n",
       "       [2.25301922e+05],\n",
       "       [3.94681191e+03],\n",
       "       [1.28122076e+03],\n",
       "       [6.40770912e+03],\n",
       "       [1.40359549e+03],\n",
       "       [9.27981608e+02],\n",
       "       [6.65828154e+02],\n",
       "       [4.03662431e+02],\n",
       "       [6.06103809e+03],\n",
       "       [3.48456324e+03],\n",
       "       [1.75488253e+03],\n",
       "       [7.78277662e+03],\n",
       "       [9.29646892e+04]])"
      ]
     },
     "execution_count": 15,
     "metadata": {},
     "output_type": "execute_result"
    }
   ],
   "source": [
    "y"
   ]
  },
  {
   "cell_type": "code",
   "execution_count": 16,
   "id": "4c4a1cfb",
   "metadata": {},
   "outputs": [],
   "source": [
    "# Split data into a training set and a test set.\n",
    "\n",
    "X_train, X_test, y_train, y_test = train_test_split(X, y, test_size=0.3, random_state=0)"
   ]
  },
  {
   "cell_type": "code",
   "execution_count": 17,
   "id": "b2fe314b",
   "metadata": {},
   "outputs": [],
   "source": [
    "# Create a regression object.\n",
    "\n",
    "regression = LinearRegression()"
   ]
  },
  {
   "cell_type": "code",
   "execution_count": 18,
   "id": "898b1c0c",
   "metadata": {},
   "outputs": [
    {
     "data": {
      "text/plain": [
       "LinearRegression()"
      ]
     },
     "execution_count": 18,
     "metadata": {},
     "output_type": "execute_result"
    }
   ],
   "source": [
    "regression.fit(X_train, y_train)"
   ]
  },
  {
   "cell_type": "code",
   "execution_count": 19,
   "id": "4ee56b17",
   "metadata": {},
   "outputs": [],
   "source": [
    "y_predicted = regression.predict(X_test)"
   ]
  },
  {
   "cell_type": "code",
   "execution_count": 20,
   "id": "0d230237",
   "metadata": {},
   "outputs": [
    {
     "data": {
      "image/png": "[encoded data removed]",
      "text/plain": [
       "<Figure size 640x480 with 1 Axes>"
      ]
     },
     "metadata": {},
     "output_type": "display_data"
    }
   ],
   "source": [
    "plot_test = plt\n",
    "plot_test.scatter(X_test, y_test, color='gray', s = 15)\n",
    "plot_test.plot(X_test, y_predicted, color='red', linewidth =3)\n",
    "plot_test.title('count of sources vs value produced (Test set)')\n",
    "plot_test.xlabel('count of sources')\n",
    "plot_test.ylabel('mean value')\n",
    "plot_test.show()"
   ]
  },
  {
   "cell_type": "code",
   "execution_count": 21,
   "id": "64279362",
   "metadata": {},
   "outputs": [],
   "source": [
    "# Create objects that contain the model summary statistics.\n",
    "rmse = mean_squared_error(y_test, y_predicted) \n",
    "r2 = r2_score(y_test, y_predicted) "
   ]
  },
  {
   "cell_type": "code",
   "execution_count": 22,
   "id": "6d7ee277",
   "metadata": {},
   "outputs": [
    {
     "name": "stdout",
     "output_type": "stream",
     "text": [
      "Slope: [[24.30187356]]\n",
      "Mean squared error:  669288764.7430732\n",
      "R2 score:  -2.384126502434447\n"
     ]
    }
   ],
   "source": [
    "# Print the model summary statistics.\n",
    "print('Slope:' ,regression.coef_)\n",
    "print('Mean squared error: ', rmse)\n",
    "print('R2 score: ', r2)"
   ]
  },
  {
   "cell_type": "code",
   "execution_count": 23,
   "id": "00c04227",
   "metadata": {},
   "outputs": [
    {
     "data": {
      "text/html": [
       "<div>\n",
       "<style scoped>\n",
       "    .dataframe tbody tr th:only-of-type {\n",
       "        vertical-align: middle;\n",
       "    }\n",
       "\n",
       "    .dataframe tbody tr th {\n",
       "        vertical-align: top;\n",
       "    }\n",
       "\n",
       "    .dataframe thead th {\n",
       "        text-align: right;\n",
       "    }\n",
       "</style>\n",
       "<table border=\"1\" class=\"dataframe\">\n",
       "  <thead>\n",
       "    <tr style=\"text-align: right;\">\n",
       "      <th></th>\n",
       "      <th>Actual</th>\n",
       "      <th>Predicted</th>\n",
       "    </tr>\n",
       "  </thead>\n",
       "  <tbody>\n",
       "    <tr>\n",
       "      <th>0</th>\n",
       "      <td>223.389425</td>\n",
       "      <td>24483.101322</td>\n",
       "    </tr>\n",
       "    <tr>\n",
       "      <th>1</th>\n",
       "      <td>44737.785352</td>\n",
       "      <td>32381.210229</td>\n",
       "    </tr>\n",
       "    <tr>\n",
       "      <th>2</th>\n",
       "      <td>205.553020</td>\n",
       "      <td>-23901.928939</td>\n",
       "    </tr>\n",
       "    <tr>\n",
       "      <th>3</th>\n",
       "      <td>173.901432</td>\n",
       "      <td>-13962.462653</td>\n",
       "    </tr>\n",
       "    <tr>\n",
       "      <th>4</th>\n",
       "      <td>1655.600531</td>\n",
       "      <td>34155.246999</td>\n",
       "    </tr>\n",
       "    <tr>\n",
       "      <th>5</th>\n",
       "      <td>78.851550</td>\n",
       "      <td>-23974.834560</td>\n",
       "    </tr>\n",
       "    <tr>\n",
       "      <th>6</th>\n",
       "      <td>3946.811913</td>\n",
       "      <td>29416.381655</td>\n",
       "    </tr>\n",
       "    <tr>\n",
       "      <th>7</th>\n",
       "      <td>2949.379735</td>\n",
       "      <td>30388.456597</td>\n",
       "    </tr>\n",
       "    <tr>\n",
       "      <th>8</th>\n",
       "      <td>13218.080489</td>\n",
       "      <td>28371.401092</td>\n",
       "    </tr>\n",
       "    <tr>\n",
       "      <th>9</th>\n",
       "      <td>16169.329967</td>\n",
       "      <td>-13986.764526</td>\n",
       "    </tr>\n",
       "    <tr>\n",
       "      <th>10</th>\n",
       "      <td>424.329304</td>\n",
       "      <td>-8591.748595</td>\n",
       "    </tr>\n",
       "    <tr>\n",
       "      <th>11</th>\n",
       "      <td>43232.382063</td>\n",
       "      <td>-14351.292630</td>\n",
       "    </tr>\n",
       "    <tr>\n",
       "      <th>12</th>\n",
       "      <td>7550.250109</td>\n",
       "      <td>32332.606482</td>\n",
       "    </tr>\n",
       "    <tr>\n",
       "      <th>13</th>\n",
       "      <td>153.901261</td>\n",
       "      <td>19258.198506</td>\n",
       "    </tr>\n",
       "    <tr>\n",
       "      <th>14</th>\n",
       "      <td>6407.709117</td>\n",
       "      <td>29805.211632</td>\n",
       "    </tr>\n",
       "    <tr>\n",
       "      <th>15</th>\n",
       "      <td>1403.595491</td>\n",
       "      <td>-7935.598009</td>\n",
       "    </tr>\n",
       "  </tbody>\n",
       "</table>\n",
       "</div>"
      ],
      "text/plain": [
       "          Actual     Predicted\n",
       "0     223.389425  24483.101322\n",
       "1   44737.785352  32381.210229\n",
       "2     205.553020 -23901.928939\n",
       "3     173.901432 -13962.462653\n",
       "4    1655.600531  34155.246999\n",
       "5      78.851550 -23974.834560\n",
       "6    3946.811913  29416.381655\n",
       "7    2949.379735  30388.456597\n",
       "8   13218.080489  28371.401092\n",
       "9   16169.329967 -13986.764526\n",
       "10    424.329304  -8591.748595\n",
       "11  43232.382063 -14351.292630\n",
       "12   7550.250109  32332.606482\n",
       "13    153.901261  19258.198506\n",
       "14   6407.709117  29805.211632\n",
       "15   1403.595491  -7935.598009"
      ]
     },
     "execution_count": 23,
     "metadata": {},
     "output_type": "execute_result"
    }
   ],
   "source": [
    "# Create a dataframe comparing the actual and predicted values of y.\n",
    "data = pd.DataFrame({'Actual': y_test.flatten(), 'Predicted': y_predicted.flatten()})\n",
    "data.head(30)"
   ]
  },
  {
   "cell_type": "code",
   "execution_count": null,
   "id": "88566b3b",
   "metadata": {},
   "outputs": [],
   "source": []
  }
 ],
 "metadata": {
  "kernelspec": {
   "display_name": "Python 3 (ipykernel)",
   "language": "python",
   "name": "python3"
  },
  "language_info": {
   "codemirror_mode": {
    "name": "ipython",
    "version": 3
   },
   "file_extension": ".py",
   "mimetype": "text/x-python",
   "name": "python",
   "nbconvert_exporter": "python",
   "pygments_lexer": "ipython3",
   "version": "3.9.13"
  }
 },
 "nbformat": 4,
 "nbformat_minor": 5
}
