{
 "cells": [
  {
   "cell_type": "markdown",
   "id": "9563f286",
   "metadata": {},
   "source": [
    "# 6.5 Supervised machine learning - Task"
   ]
  },
  {
   "cell_type": "markdown",
   "id": "59a4d3a4",
   "metadata": {},
   "source": [
    "### a) Import Libraries\n",
    "### b) Import data and conduct necessary cleaning, manipulation, reprocessing\n",
    "### c) apply elbow technique\n",
    "- descide how many clusters to use in k-means algorithm based on the result"
   ]
  },
  {
   "cell_type": "markdown",
   "id": "939b3b5b",
   "metadata": {},
   "source": [
    "### d) running k-means algorithm\n",
    "### e) attach new column (variable) to df, showing the result of clustering \n",
    "### f) Visualizations"
   ]
  },
  {
   "cell_type": "markdown",
   "id": "48a7dc58",
   "metadata": {},
   "source": [
    "- comments on the outcome"
   ]
  },
  {
   "cell_type": "markdown",
   "id": "92fe7032",
   "metadata": {},
   "source": [
    "### g) descriptive statistics"
   ]
  },
  {
   "cell_type": "markdown",
   "id": "3f613bb9",
   "metadata": {},
   "source": [
    "### a) import Libraries"
   ]
  },
  {
   "cell_type": "code",
   "execution_count": 1,
   "id": "25820b61",
   "metadata": {},
   "outputs": [],
   "source": [
    "import pandas as pd\n",
    "import numpy as np\n",
    "import seaborn as sns\n",
    "import matplotlib\n",
    "import matplotlib.pyplot as plt\n",
    "import os\n",
    "import sklearn\n",
    "from sklearn.cluster import KMeans # Here is where you import the k-means algorithm from scikit-learn.\n",
    "import pylab as pl # PyLab is a convenience module that bulk imports matplotlib."
   ]
  },
  {
   "cell_type": "code",
   "execution_count": 2,
   "id": "e66d69bd",
   "metadata": {},
   "outputs": [],
   "source": [
    "%matplotlib inline"
   ]
  },
  {
   "cell_type": "markdown",
   "id": "8d654a9b",
   "metadata": {},
   "source": [
    "### b) Import data and conduct necessary cleaning, manipulation, reprocessing"
   ]
  },
  {
   "cell_type": "code",
   "execution_count": 3,
   "id": "fa6391bc",
   "metadata": {},
   "outputs": [],
   "source": [
    "# set path\n",
    "path = r'C:\\Users\\rieke\\Data Analytics\\Achievement 6\\02 Data'"
   ]
  },
  {
   "cell_type": "code",
   "execution_count": 4,
   "id": "63d3cd31",
   "metadata": {},
   "outputs": [
    {
     "data": {
      "text/plain": [
       "'C:\\\\Users\\\\rieke\\\\Data Analytics\\\\Achievement 6\\\\02 Data'"
      ]
     },
     "execution_count": 4,
     "metadata": {},
     "output_type": "execute_result"
    }
   ],
   "source": [
    "path"
   ]
  },
  {
   "cell_type": "code",
   "execution_count": 5,
   "id": "0e4f65e3",
   "metadata": {},
   "outputs": [],
   "source": [
    "df = pd.read_excel(os.path.join(path, '02 Prepared Data', 'without totals_WW 2010 - 2022.xlsx'), index_col = False)"
   ]
  },
  {
   "cell_type": "code",
   "execution_count": 6,
   "id": "75fd73d4",
   "metadata": {},
   "outputs": [
    {
     "data": {
      "text/html": [
       "<div>\n",
       "<style scoped>\n",
       "    .dataframe tbody tr th:only-of-type {\n",
       "        vertical-align: middle;\n",
       "    }\n",
       "\n",
       "    .dataframe tbody tr th {\n",
       "        vertical-align: top;\n",
       "    }\n",
       "\n",
       "    .dataframe thead th {\n",
       "        text-align: right;\n",
       "    }\n",
       "</style>\n",
       "<table border=\"1\" class=\"dataframe\">\n",
       "  <thead>\n",
       "    <tr style=\"text-align: right;\">\n",
       "      <th></th>\n",
       "      <th>COUNTRY</th>\n",
       "      <th>CODE_TIME</th>\n",
       "      <th>TIME</th>\n",
       "      <th>YEAR</th>\n",
       "      <th>MONTH</th>\n",
       "      <th>MONTH_NAME</th>\n",
       "      <th>PRODUCT</th>\n",
       "      <th>VALUE</th>\n",
       "      <th>DISPLAY_ORDER</th>\n",
       "      <th>yearToDate</th>\n",
       "      <th>previousYearToDate</th>\n",
       "      <th>share</th>\n",
       "    </tr>\n",
       "  </thead>\n",
       "  <tbody>\n",
       "    <tr>\n",
       "      <th>0</th>\n",
       "      <td>Australia</td>\n",
       "      <td>JAN2010</td>\n",
       "      <td>January 2010</td>\n",
       "      <td>2010</td>\n",
       "      <td>1</td>\n",
       "      <td>January</td>\n",
       "      <td>Hydro</td>\n",
       "      <td>990.728</td>\n",
       "      <td>1</td>\n",
       "      <td>16471.891</td>\n",
       "      <td>NaN</td>\n",
       "      <td>0.047771</td>\n",
       "    </tr>\n",
       "    <tr>\n",
       "      <th>1</th>\n",
       "      <td>Australia</td>\n",
       "      <td>JAN2010</td>\n",
       "      <td>January 2010</td>\n",
       "      <td>2010</td>\n",
       "      <td>1</td>\n",
       "      <td>January</td>\n",
       "      <td>Wind</td>\n",
       "      <td>409.469</td>\n",
       "      <td>2</td>\n",
       "      <td>4940.909</td>\n",
       "      <td>NaN</td>\n",
       "      <td>0.019744</td>\n",
       "    </tr>\n",
       "    <tr>\n",
       "      <th>2</th>\n",
       "      <td>Australia</td>\n",
       "      <td>JAN2010</td>\n",
       "      <td>January 2010</td>\n",
       "      <td>2010</td>\n",
       "      <td>1</td>\n",
       "      <td>January</td>\n",
       "      <td>Solar</td>\n",
       "      <td>49.216</td>\n",
       "      <td>3</td>\n",
       "      <td>908.238</td>\n",
       "      <td>NaN</td>\n",
       "      <td>0.002373</td>\n",
       "    </tr>\n",
       "    <tr>\n",
       "      <th>3</th>\n",
       "      <td>Australia</td>\n",
       "      <td>JAN2010</td>\n",
       "      <td>January 2010</td>\n",
       "      <td>2010</td>\n",
       "      <td>1</td>\n",
       "      <td>January</td>\n",
       "      <td>Geothermal</td>\n",
       "      <td>0.083</td>\n",
       "      <td>4</td>\n",
       "      <td>0.996</td>\n",
       "      <td>NaN</td>\n",
       "      <td>0.000004</td>\n",
       "    </tr>\n",
       "    <tr>\n",
       "      <th>4</th>\n",
       "      <td>Australia</td>\n",
       "      <td>JAN2010</td>\n",
       "      <td>January 2010</td>\n",
       "      <td>2010</td>\n",
       "      <td>1</td>\n",
       "      <td>January</td>\n",
       "      <td>Coal</td>\n",
       "      <td>14796.776</td>\n",
       "      <td>8</td>\n",
       "      <td>163887.775</td>\n",
       "      <td>NaN</td>\n",
       "      <td>0.713468</td>\n",
       "    </tr>\n",
       "  </tbody>\n",
       "</table>\n",
       "</div>"
      ],
      "text/plain": [
       "     COUNTRY CODE_TIME          TIME  YEAR  MONTH MONTH_NAME     PRODUCT  \\\n",
       "0  Australia   JAN2010  January 2010  2010      1    January       Hydro   \n",
       "1  Australia   JAN2010  January 2010  2010      1    January        Wind   \n",
       "2  Australia   JAN2010  January 2010  2010      1    January       Solar   \n",
       "3  Australia   JAN2010  January 2010  2010      1    January  Geothermal   \n",
       "4  Australia   JAN2010  January 2010  2010      1    January        Coal   \n",
       "\n",
       "       VALUE  DISPLAY_ORDER  yearToDate  previousYearToDate     share  \n",
       "0    990.728              1   16471.891                 NaN  0.047771  \n",
       "1    409.469              2    4940.909                 NaN  0.019744  \n",
       "2     49.216              3     908.238                 NaN  0.002373  \n",
       "3      0.083              4       0.996                 NaN  0.000004  \n",
       "4  14796.776              8  163887.775                 NaN  0.713468  "
      ]
     },
     "execution_count": 6,
     "metadata": {},
     "output_type": "execute_result"
    }
   ],
   "source": [
    "df.head()"
   ]
  },
  {
   "cell_type": "code",
   "execution_count": 7,
   "id": "698ba007",
   "metadata": {},
   "outputs": [
    {
     "data": {
      "text/plain": [
       "(112162, 12)"
      ]
     },
     "execution_count": 7,
     "metadata": {},
     "output_type": "execute_result"
    }
   ],
   "source": [
    "df.shape"
   ]
  },
  {
   "cell_type": "markdown",
   "id": "1478af1d",
   "metadata": {},
   "source": [
    "the k-means algorithm can only handle numerical variables, so we’ll need to remove any categorical columns from your data."
   ]
  },
  {
   "cell_type": "markdown",
   "id": "ce955eeb",
   "metadata": {},
   "source": [
    "perform grouping & aggregation to be able to apply k-means algorithm"
   ]
  },
  {
   "cell_type": "code",
   "execution_count": 8,
   "id": "c29f5906",
   "metadata": {},
   "outputs": [
    {
     "name": "stdout",
     "output_type": "stream",
     "text": [
      "                COUNTRY  count_of_sources    mean_value\n",
      "0             Argentina              1714   2664.312569\n",
      "1             Australia              2522   5089.664728\n",
      "2               Austria              2748   1278.388002\n",
      "3               Belgium              2748   1600.721058\n",
      "4                Brazil              1788  10999.550380\n",
      "5              Bulgaria              1680    809.180049\n",
      "6                Canada              2832  11627.716714\n",
      "7                 Chile              2470   1607.140784\n",
      "8              Colombia              1750   1612.615263\n",
      "9            Costa Rica               312    331.536414\n",
      "10              Croatia              1591    260.058881\n",
      "11               Cyprus              1440    129.117284\n",
      "12       Czech Republic              2748   1509.550959\n",
      "13              Denmark              2532    666.526733\n",
      "14              Estonia              2424    208.608591\n",
      "15              Finland              2748   1349.807701\n",
      "16               France              2952   9534.615116\n",
      "17              Germany              2854  10980.285908\n",
      "18               Greece              2544   1047.630570\n",
      "19              Hungary              2718    609.992336\n",
      "20              Iceland              2064    495.460500\n",
      "21                India              1788  26542.923859\n",
      "22              Ireland              2508    608.680536\n",
      "23                Italy              2748   5488.886767\n",
      "24                Japan              2833  19784.152183\n",
      "25                Korea              2820   9973.287455\n",
      "26               Latvia              2406    125.860409\n",
      "27            Lithuania              2483     97.263471\n",
      "28           Luxembourg              2551     57.220384\n",
      "29                Malta              1400     41.373628\n",
      "30               Mexico              2822   5935.209134\n",
      "31          Netherlands              2814   2090.719255\n",
      "32          New Zealand              2726    854.710975\n",
      "33      North Macedonia              1578    107.802560\n",
      "34               Norway              2618   2835.095578\n",
      "35               Poland              2712   2962.835264\n",
      "36             Portugal              2786    998.794831\n",
      "37  Republic of Turkiye              2881   4791.778061\n",
      "38              Romania              1742   1047.671111\n",
      "39               Serbia              1618    692.337678\n",
      "40      Slovak Republic              2737    498.543109\n",
      "41             Slovenia              2661    297.021214\n",
      "42                Spain              2736   5259.138048\n",
      "43               Sweden              2639   3174.045051\n",
      "44          Switzerland              2628   1327.815520\n",
      "45       United Kingdom              2892   6000.016005\n",
      "46        United States              2856  76127.327343\n"
     ]
    }
   ],
   "source": [
    "df_new = df.groupby('COUNTRY').agg({'PRODUCT':'count', 'VALUE':'mean'})\\\n",
    ".rename(columns={'PRODUCT':'count_of_sources','VALUE':'mean_value'})\\\n",
    ".reset_index()\n",
    "print (df_new)"
   ]
  },
  {
   "cell_type": "code",
   "execution_count": 9,
   "id": "a041e984",
   "metadata": {},
   "outputs": [],
   "source": [
    "# deleting geographical region summaries to exclude outliers and see the single countries only\n",
    "list1 = ['IEA Total', 'OECD Americas', 'OECD Asia Oceania', 'OECD Europe', 'OECD Total']"
   ]
  },
  {
   "cell_type": "code",
   "execution_count": 10,
   "id": "f78cddf9",
   "metadata": {},
   "outputs": [
    {
     "name": "stdout",
     "output_type": "stream",
     "text": [
      "                COUNTRY  count_of_sources    mean_value\n",
      "0             Argentina              1714   2664.312569\n",
      "1             Australia              2522   5089.664728\n",
      "2               Austria              2748   1278.388002\n",
      "3               Belgium              2748   1600.721058\n",
      "4                Brazil              1788  10999.550380\n",
      "5              Bulgaria              1680    809.180049\n",
      "6                Canada              2832  11627.716714\n",
      "7                 Chile              2470   1607.140784\n",
      "8              Colombia              1750   1612.615263\n",
      "9            Costa Rica               312    331.536414\n",
      "10              Croatia              1591    260.058881\n",
      "11               Cyprus              1440    129.117284\n",
      "12       Czech Republic              2748   1509.550959\n",
      "13              Denmark              2532    666.526733\n",
      "14              Estonia              2424    208.608591\n",
      "15              Finland              2748   1349.807701\n",
      "16               France              2952   9534.615116\n",
      "17              Germany              2854  10980.285908\n",
      "18               Greece              2544   1047.630570\n",
      "19              Hungary              2718    609.992336\n",
      "20              Iceland              2064    495.460500\n",
      "21                India              1788  26542.923859\n",
      "22              Ireland              2508    608.680536\n",
      "23                Italy              2748   5488.886767\n",
      "24                Japan              2833  19784.152183\n",
      "25                Korea              2820   9973.287455\n",
      "26               Latvia              2406    125.860409\n",
      "27            Lithuania              2483     97.263471\n",
      "28           Luxembourg              2551     57.220384\n",
      "29                Malta              1400     41.373628\n",
      "30               Mexico              2822   5935.209134\n",
      "31          Netherlands              2814   2090.719255\n",
      "32          New Zealand              2726    854.710975\n",
      "33      North Macedonia              1578    107.802560\n",
      "34               Norway              2618   2835.095578\n",
      "35               Poland              2712   2962.835264\n",
      "36             Portugal              2786    998.794831\n",
      "37  Republic of Turkiye              2881   4791.778061\n",
      "38              Romania              1742   1047.671111\n",
      "39               Serbia              1618    692.337678\n",
      "40      Slovak Republic              2737    498.543109\n",
      "41             Slovenia              2661    297.021214\n",
      "42                Spain              2736   5259.138048\n",
      "43               Sweden              2639   3174.045051\n",
      "44          Switzerland              2628   1327.815520\n",
      "45       United Kingdom              2892   6000.016005\n",
      "46        United States              2856  76127.327343\n"
     ]
    }
   ],
   "source": [
    "print(df_new[df_new.COUNTRY.isin(list1) == False])"
   ]
  },
  {
   "cell_type": "code",
   "execution_count": 11,
   "id": "54d208b9",
   "metadata": {},
   "outputs": [],
   "source": [
    "# drop the last categorical column to apply algorithm in next step\n",
    "df1 = df_new.drop(columns = ['COUNTRY'])"
   ]
  },
  {
   "cell_type": "markdown",
   "id": "88c46a1e",
   "metadata": {},
   "source": [
    "### c) apply elbow technique"
   ]
  },
  {
   "cell_type": "code",
   "execution_count": 12,
   "id": "e8794eba",
   "metadata": {},
   "outputs": [],
   "source": [
    "# define range of potential clusters\n",
    "num_cl = range(1, 10) \n",
    "# define k-means clusters in range \n",
    "kmeans = [KMeans(n_clusters=i) for i in num_cl]"
   ]
  },
  {
   "cell_type": "code",
   "execution_count": 13,
   "id": "ff42bdcd",
   "metadata": {},
   "outputs": [
    {
     "name": "stderr",
     "output_type": "stream",
     "text": [
      "C:\\Users\\rieke\\anaconda3\\lib\\site-packages\\sklearn\\cluster\\_kmeans.py:1036: UserWarning: KMeans is known to have a memory leak on Windows with MKL, when there are less chunks than available threads. You can avoid it by setting the environment variable OMP_NUM_THREADS=1.\n",
      "  warnings.warn(\n"
     ]
    },
    {
     "data": {
      "text/plain": [
       "[-6464245776.392995,\n",
       " -1316978609.2347026,\n",
       " -389512015.8769493,\n",
       " -138918521.86160362,\n",
       " -63978581.158708766,\n",
       " -40592071.371500865,\n",
       " -22821903.130055103,\n",
       " -15946203.22787619,\n",
       " -11246599.591808835]"
      ]
     },
     "execution_count": 13,
     "metadata": {},
     "output_type": "execute_result"
    }
   ],
   "source": [
    "score = [kmeans[i].fit(df1).score(df1) for i in range(len(kmeans))] # Creates a score that represents \n",
    "# a rate of variation for the given cluster option.\n",
    "\n",
    "score"
   ]
  },
  {
   "cell_type": "code",
   "execution_count": 14,
   "id": "9e93f556",
   "metadata": {},
   "outputs": [
    {
     "data": {
      "image/png": "[encoded data removed]",
      "text/plain": [
       "<Figure size 640x480 with 1 Axes>"
      ]
     },
     "metadata": {},
     "output_type": "display_data"
    }
   ],
   "source": [
    "pl.plot(num_cl,score)\n",
    "pl.xlabel('Number of Clusters')\n",
    "pl.ylabel('Score')\n",
    "pl.title('Elbow Curve')\n",
    "pl.show()"
   ]
  },
  {
   "cell_type": "markdown",
   "id": "fd8aa824",
   "metadata": {},
   "source": [
    "we´ll use three clusters as supposed by the diagram"
   ]
  },
  {
   "cell_type": "markdown",
   "id": "8c9fc46c",
   "metadata": {},
   "source": [
    "### d) running k-means algorithm"
   ]
  },
  {
   "cell_type": "code",
   "execution_count": 15,
   "id": "25e2817b",
   "metadata": {},
   "outputs": [],
   "source": [
    "# Create the k-means object.\n",
    "\n",
    "kmeans = KMeans(n_clusters = 3)"
   ]
  },
  {
   "cell_type": "markdown",
   "id": "592ba1cd",
   "metadata": {},
   "source": [
    "...left out the part of \"n_jobs\" due to caused error and researches that results it is not neccessary to be included"
   ]
  },
  {
   "cell_type": "code",
   "execution_count": 16,
   "id": "8836f210",
   "metadata": {},
   "outputs": [
    {
     "data": {
      "text/plain": [
       "KMeans(n_clusters=3)"
      ]
     },
     "execution_count": 16,
     "metadata": {},
     "output_type": "execute_result"
    }
   ],
   "source": [
    "# Fit the k-means object to the data.\n",
    "\n",
    "kmeans.fit(df1)"
   ]
  },
  {
   "cell_type": "code",
   "execution_count": 17,
   "id": "d4a76958",
   "metadata": {},
   "outputs": [],
   "source": [
    "# attach new column to df1, showing result of clusters\n",
    "df1['clusters'] = kmeans.fit_predict(df1)"
   ]
  },
  {
   "cell_type": "code",
   "execution_count": 18,
   "id": "ff17e1d9",
   "metadata": {},
   "outputs": [
    {
     "data": {
      "text/html": [
       "<div>\n",
       "<style scoped>\n",
       "    .dataframe tbody tr th:only-of-type {\n",
       "        vertical-align: middle;\n",
       "    }\n",
       "\n",
       "    .dataframe tbody tr th {\n",
       "        vertical-align: top;\n",
       "    }\n",
       "\n",
       "    .dataframe thead th {\n",
       "        text-align: right;\n",
       "    }\n",
       "</style>\n",
       "<table border=\"1\" class=\"dataframe\">\n",
       "  <thead>\n",
       "    <tr style=\"text-align: right;\">\n",
       "      <th></th>\n",
       "      <th>count_of_sources</th>\n",
       "      <th>mean_value</th>\n",
       "      <th>clusters</th>\n",
       "    </tr>\n",
       "  </thead>\n",
       "  <tbody>\n",
       "    <tr>\n",
       "      <th>0</th>\n",
       "      <td>1714</td>\n",
       "      <td>2664.312569</td>\n",
       "      <td>0</td>\n",
       "    </tr>\n",
       "    <tr>\n",
       "      <th>1</th>\n",
       "      <td>2522</td>\n",
       "      <td>5089.664728</td>\n",
       "      <td>0</td>\n",
       "    </tr>\n",
       "    <tr>\n",
       "      <th>2</th>\n",
       "      <td>2748</td>\n",
       "      <td>1278.388002</td>\n",
       "      <td>0</td>\n",
       "    </tr>\n",
       "    <tr>\n",
       "      <th>3</th>\n",
       "      <td>2748</td>\n",
       "      <td>1600.721058</td>\n",
       "      <td>0</td>\n",
       "    </tr>\n",
       "    <tr>\n",
       "      <th>4</th>\n",
       "      <td>1788</td>\n",
       "      <td>10999.550380</td>\n",
       "      <td>2</td>\n",
       "    </tr>\n",
       "  </tbody>\n",
       "</table>\n",
       "</div>"
      ],
      "text/plain": [
       "   count_of_sources    mean_value  clusters\n",
       "0              1714   2664.312569         0\n",
       "1              2522   5089.664728         0\n",
       "2              2748   1278.388002         0\n",
       "3              2748   1600.721058         0\n",
       "4              1788  10999.550380         2"
      ]
     },
     "execution_count": 18,
     "metadata": {},
     "output_type": "execute_result"
    }
   ],
   "source": [
    "df1.head()"
   ]
  },
  {
   "cell_type": "code",
   "execution_count": 19,
   "id": "cae53f77",
   "metadata": {},
   "outputs": [
    {
     "data": {
      "text/plain": [
       "0    39\n",
       "2     7\n",
       "1     1\n",
       "Name: clusters, dtype: int64"
      ]
     },
     "execution_count": 19,
     "metadata": {},
     "output_type": "execute_result"
    }
   ],
   "source": [
    "df1['clusters'].value_counts()"
   ]
  },
  {
   "cell_type": "code",
   "execution_count": 20,
   "id": "83121881",
   "metadata": {},
   "outputs": [],
   "source": [
    "df1.to_excel(os.path.join(path, '02 Prepared Data', 'clusters.xlsx'))"
   ]
  },
  {
   "cell_type": "markdown",
   "id": "77a4229b",
   "metadata": {},
   "source": [
    "### f) Visualizations"
   ]
  },
  {
   "cell_type": "code",
   "execution_count": 41,
   "id": "c1cb2ca3",
   "metadata": {},
   "outputs": [
    {
     "data": {
      "image/png": "[encoded data removed]",
      "text/plain": [
       "<Figure size 1200x800 with 1 Axes>"
      ]
     },
     "metadata": {},
     "output_type": "display_data"
    }
   ],
   "source": [
    "# Plot the clusters for the \"Price per Unit\" and \"D.metro\" variables.\n",
    "\n",
    "plt.figure(figsize=(12,8))\n",
    "ax = sns.scatterplot(x=df1['count_of_sources'], y=df1['mean_value'], hue=kmeans.labels_, s=100) \n",
    "ax.grid(False) # This removes the grid from the background.\n",
    "plt.xlabel('count_of_sources') # Label x-axis.\n",
    "plt.ylabel('mean value produced') # Label y-axis.\n",
    "plt.show()"
   ]
  },
  {
   "cell_type": "markdown",
   "id": "01da46e9",
   "metadata": {},
   "source": [
    "The clusters are making sence in the way we expected the relation to behave; the more sources of energy a country does operate, the more energy it will produce itself. "
   ]
  },
  {
   "cell_type": "markdown",
   "id": "caff1f66",
   "metadata": {},
   "source": [
    "### g) descriptive statistics"
   ]
  },
  {
   "cell_type": "code",
   "execution_count": 42,
   "id": "2e186367",
   "metadata": {},
   "outputs": [],
   "source": [
    "df1.loc[df1['clusters'] == 2, 'cluster'] = 'dark purple'\n",
    "df1.loc[df1['clusters'] == 1, 'cluster'] = 'purple'\n",
    "df1.loc[df1['clusters'] == 0, 'cluster'] = 'pink'"
   ]
  },
  {
   "cell_type": "code",
   "execution_count": 43,
   "id": "41b26542",
   "metadata": {},
   "outputs": [
    {
     "data": {
      "text/html": [
       "<div>\n",
       "<style scoped>\n",
       "    .dataframe tbody tr th:only-of-type {\n",
       "        vertical-align: middle;\n",
       "    }\n",
       "\n",
       "    .dataframe tbody tr th {\n",
       "        vertical-align: top;\n",
       "    }\n",
       "\n",
       "    .dataframe thead tr th {\n",
       "        text-align: left;\n",
       "    }\n",
       "\n",
       "    .dataframe thead tr:last-of-type th {\n",
       "        text-align: right;\n",
       "    }\n",
       "</style>\n",
       "<table border=\"1\" class=\"dataframe\">\n",
       "  <thead>\n",
       "    <tr>\n",
       "      <th></th>\n",
       "      <th colspan=\"2\" halign=\"left\">count_of_sources</th>\n",
       "      <th colspan=\"2\" halign=\"left\">mean_value</th>\n",
       "    </tr>\n",
       "    <tr>\n",
       "      <th></th>\n",
       "      <th>mean</th>\n",
       "      <th>median</th>\n",
       "      <th>mean</th>\n",
       "      <th>median</th>\n",
       "    </tr>\n",
       "    <tr>\n",
       "      <th>cluster</th>\n",
       "      <th></th>\n",
       "      <th></th>\n",
       "      <th></th>\n",
       "      <th></th>\n",
       "    </tr>\n",
       "  </thead>\n",
       "  <tbody>\n",
       "    <tr>\n",
       "      <th>dark purple</th>\n",
       "      <td>2920.000000</td>\n",
       "      <td>2940.0</td>\n",
       "      <td>77109.158390</td>\n",
       "      <td>76127.327343</td>\n",
       "    </tr>\n",
       "    <tr>\n",
       "      <th>pink</th>\n",
       "      <td>2387.957447</td>\n",
       "      <td>2628.0</td>\n",
       "      <td>4253.893635</td>\n",
       "      <td>1349.807701</td>\n",
       "    </tr>\n",
       "    <tr>\n",
       "      <th>purple</th>\n",
       "      <td>2964.000000</td>\n",
       "      <td>2964.0</td>\n",
       "      <td>186440.725555</td>\n",
       "      <td>186440.725555</td>\n",
       "    </tr>\n",
       "  </tbody>\n",
       "</table>\n",
       "</div>"
      ],
      "text/plain": [
       "            count_of_sources             mean_value               \n",
       "                        mean  median           mean         median\n",
       "cluster                                                           \n",
       "dark purple      2920.000000  2940.0   77109.158390   76127.327343\n",
       "pink             2387.957447  2628.0    4253.893635    1349.807701\n",
       "purple           2964.000000  2964.0  186440.725555  186440.725555"
      ]
     },
     "execution_count": 43,
     "metadata": {},
     "output_type": "execute_result"
    }
   ],
   "source": [
    "df1.groupby('cluster').agg({'count_of_sources':['mean', 'median'], \n",
    "                         'mean_value':['mean', 'median']})"
   ]
  },
  {
   "cell_type": "markdown",
   "id": "502949ed",
   "metadata": {},
   "source": [
    "while the stats of counts of sources do not differ significantly, we can see that there are larger differences in the mean values. This leads us to further analysis of the reasons for higher values, for example back to the countries geographical position or the share in kinds of energy sources a country is operating."
   ]
  },
  {
   "cell_type": "code",
   "execution_count": null,
   "id": "e030da5c",
   "metadata": {},
   "outputs": [],
   "source": []
  }
 ],
 "metadata": {
  "kernelspec": {
   "display_name": "Python 3 (ipykernel)",
   "language": "python",
   "name": "python3"
  },
  "language_info": {
   "codemirror_mode": {
    "name": "ipython",
    "version": 3
   },
   "file_extension": ".py",
   "mimetype": "text/x-python",
   "name": "python",
   "nbconvert_exporter": "python",
   "pygments_lexer": "ipython3",
   "version": "3.9.13"
  }
 },
 "nbformat": 4,
 "nbformat_minor": 5
}
