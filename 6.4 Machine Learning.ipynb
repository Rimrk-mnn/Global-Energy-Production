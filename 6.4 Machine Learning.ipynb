{
 "cells": [
  {
   "cell_type": "markdown",
   "id": "11f69592",
   "metadata": {},
   "source": [
    "# 6.4 - Supervised Machine Learning Task"
   ]
  },
  {
   "cell_type": "markdown",
   "id": "ad096ccc",
   "metadata": {},
   "source": [
    "### a) Import Libraries & data"
   ]
  },
  {
   "cell_type": "markdown",
   "id": "65c18ace",
   "metadata": {},
   "source": [
    "### b) Clean data for analysis"
   ]
  },
  {
   "cell_type": "markdown",
   "id": "58b12ad9",
   "metadata": {},
   "source": [
    "### c) exploring data visually - find variables"
   ]
  },
  {
   "cell_type": "markdown",
   "id": "5b1d7468",
   "metadata": {},
   "source": [
    "### d) generate hypotesis"
   ]
  },
  {
   "cell_type": "markdown",
   "id": "1a38c114",
   "metadata": {},
   "source": [
    "### e) reshaping variables "
   ]
  },
  {
   "cell_type": "markdown",
   "id": "37b18a3d",
   "metadata": {},
   "source": [
    "### f) Split data set into training & test set"
   ]
  },
  {
   "cell_type": "markdown",
   "id": "0da22c26",
   "metadata": {},
   "source": [
    "### g) running linear regression:"
   ]
  },
  {
   "cell_type": "markdown",
   "id": "b0c8c47d",
   "metadata": {},
   "source": [
    "- fit model to the training set\n",
    "- create prediction for y on test set"
   ]
  },
  {
   "cell_type": "markdown",
   "id": "0edd38ce",
   "metadata": {},
   "source": [
    "### h) Plot with regression line on test set + interpretation"
   ]
  },
  {
   "cell_type": "markdown",
   "id": "e783e44e",
   "metadata": {},
   "source": [
    "### i) checking model performance statistics (MSE & R2), compare üpredicted & actual values"
   ]
  },
  {
   "cell_type": "markdown",
   "id": "a0aaf13a",
   "metadata": {},
   "source": [
    "****************************************************************************************************"
   ]
  },
  {
   "cell_type": "markdown",
   "id": "4342eb8c",
   "metadata": {},
   "source": [
    "### a) Import Libraries & data"
   ]
  },
  {
   "cell_type": "code",
   "execution_count": 1,
   "id": "3147d3a0",
   "metadata": {},
   "outputs": [],
   "source": [
    "# a) import libraries\n",
    "import pandas as pd\n",
    "import numpy as np\n",
    "import seaborn as sns\n",
    "import matplotlib\n",
    "import matplotlib.pyplot as plt\n",
    "import os\n",
    "import sklearn\n",
    "from sklearn.model_selection import train_test_split \n",
    "from sklearn.linear_model import LinearRegression\n",
    "from sklearn.metrics import mean_squared_error, r2_score"
   ]
  },
  {
   "cell_type": "code",
   "execution_count": 2,
   "id": "d47019c9",
   "metadata": {},
   "outputs": [],
   "source": [
    "# set path\n",
    "path = r'C:\\Users\\rieke\\Data Analytics\\Achievement 6\\02 Data'"
   ]
  },
  {
   "cell_type": "code",
   "execution_count": 3,
   "id": "302bb0b3",
   "metadata": {},
   "outputs": [
    {
     "data": {
      "text/plain": [
       "'C:\\\\Users\\\\rieke\\\\Data Analytics\\\\Achievement 6\\\\02 Data'"
      ]
     },
     "execution_count": 3,
     "metadata": {},
     "output_type": "execute_result"
    }
   ],
   "source": [
    "path"
   ]
  },
  {
   "cell_type": "code",
   "execution_count": 4,
   "id": "6f5c73d7",
   "metadata": {},
   "outputs": [],
   "source": [
    "df = pd.read_csv(os.path.join(path, '02 Prepared Data', 'DF1_renew_clean.csv'), index_col = False)"
   ]
  },
  {
   "cell_type": "code",
   "execution_count": 5,
   "id": "e429fa04",
   "metadata": {},
   "outputs": [
    {
     "data": {
      "text/html": [
       "<div>\n",
       "<style scoped>\n",
       "    .dataframe tbody tr th:only-of-type {\n",
       "        vertical-align: middle;\n",
       "    }\n",
       "\n",
       "    .dataframe tbody tr th {\n",
       "        vertical-align: top;\n",
       "    }\n",
       "\n",
       "    .dataframe thead th {\n",
       "        text-align: right;\n",
       "    }\n",
       "</style>\n",
       "<table border=\"1\" class=\"dataframe\">\n",
       "  <thead>\n",
       "    <tr style=\"text-align: right;\">\n",
       "      <th></th>\n",
       "      <th>Unnamed: 0</th>\n",
       "      <th>COUNTRY</th>\n",
       "      <th>CODE_TIME</th>\n",
       "      <th>TIME</th>\n",
       "      <th>YEAR</th>\n",
       "      <th>MONTH</th>\n",
       "      <th>MONTH_NAME</th>\n",
       "      <th>PRODUCT</th>\n",
       "      <th>VALUE</th>\n",
       "      <th>DISPLAY_ORDER</th>\n",
       "      <th>yearToDate</th>\n",
       "      <th>share</th>\n",
       "    </tr>\n",
       "  </thead>\n",
       "  <tbody>\n",
       "    <tr>\n",
       "      <th>0</th>\n",
       "      <td>0</td>\n",
       "      <td>Australia</td>\n",
       "      <td>JAN2010</td>\n",
       "      <td>January 2010</td>\n",
       "      <td>2010</td>\n",
       "      <td>1</td>\n",
       "      <td>January</td>\n",
       "      <td>Hydro</td>\n",
       "      <td>990.728</td>\n",
       "      <td>1</td>\n",
       "      <td>16471.891</td>\n",
       "      <td>0.047771</td>\n",
       "    </tr>\n",
       "    <tr>\n",
       "      <th>1</th>\n",
       "      <td>1</td>\n",
       "      <td>Australia</td>\n",
       "      <td>JAN2010</td>\n",
       "      <td>January 2010</td>\n",
       "      <td>2010</td>\n",
       "      <td>1</td>\n",
       "      <td>January</td>\n",
       "      <td>Wind</td>\n",
       "      <td>409.469</td>\n",
       "      <td>2</td>\n",
       "      <td>4940.909</td>\n",
       "      <td>0.019744</td>\n",
       "    </tr>\n",
       "    <tr>\n",
       "      <th>2</th>\n",
       "      <td>2</td>\n",
       "      <td>Australia</td>\n",
       "      <td>JAN2010</td>\n",
       "      <td>January 2010</td>\n",
       "      <td>2010</td>\n",
       "      <td>1</td>\n",
       "      <td>January</td>\n",
       "      <td>Solar</td>\n",
       "      <td>49.216</td>\n",
       "      <td>3</td>\n",
       "      <td>908.238</td>\n",
       "      <td>0.002373</td>\n",
       "    </tr>\n",
       "    <tr>\n",
       "      <th>3</th>\n",
       "      <td>3</td>\n",
       "      <td>Australia</td>\n",
       "      <td>JAN2010</td>\n",
       "      <td>January 2010</td>\n",
       "      <td>2010</td>\n",
       "      <td>1</td>\n",
       "      <td>January</td>\n",
       "      <td>Geothermal</td>\n",
       "      <td>0.083</td>\n",
       "      <td>4</td>\n",
       "      <td>0.996</td>\n",
       "      <td>0.000004</td>\n",
       "    </tr>\n",
       "    <tr>\n",
       "      <th>4</th>\n",
       "      <td>4</td>\n",
       "      <td>Australia</td>\n",
       "      <td>JAN2010</td>\n",
       "      <td>January 2010</td>\n",
       "      <td>2010</td>\n",
       "      <td>1</td>\n",
       "      <td>January</td>\n",
       "      <td>Total combustible fuels</td>\n",
       "      <td>19289.730</td>\n",
       "      <td>7</td>\n",
       "      <td>214302.969</td>\n",
       "      <td>0.930108</td>\n",
       "    </tr>\n",
       "  </tbody>\n",
       "</table>\n",
       "</div>"
      ],
      "text/plain": [
       "   Unnamed: 0    COUNTRY CODE_TIME          TIME  YEAR  MONTH MONTH_NAME  \\\n",
       "0           0  Australia   JAN2010  January 2010  2010      1    January   \n",
       "1           1  Australia   JAN2010  January 2010  2010      1    January   \n",
       "2           2  Australia   JAN2010  January 2010  2010      1    January   \n",
       "3           3  Australia   JAN2010  January 2010  2010      1    January   \n",
       "4           4  Australia   JAN2010  January 2010  2010      1    January   \n",
       "\n",
       "                   PRODUCT      VALUE  DISPLAY_ORDER  yearToDate     share  \n",
       "0                    Hydro    990.728              1   16471.891  0.047771  \n",
       "1                     Wind    409.469              2    4940.909  0.019744  \n",
       "2                    Solar     49.216              3     908.238  0.002373  \n",
       "3               Geothermal      0.083              4       0.996  0.000004  \n",
       "4  Total combustible fuels  19289.730              7  214302.969  0.930108  "
      ]
     },
     "execution_count": 5,
     "metadata": {},
     "output_type": "execute_result"
    }
   ],
   "source": [
    "df.head(5)"
   ]
  },
  {
   "cell_type": "code",
   "execution_count": 6,
   "id": "e6e3fca8",
   "metadata": {},
   "outputs": [],
   "source": [
    "df = df.drop(columns = ['Unnamed: 0'])"
   ]
  },
  {
   "cell_type": "code",
   "execution_count": 7,
   "id": "c83a217a",
   "metadata": {},
   "outputs": [
    {
     "data": {
      "text/html": [
       "<div>\n",
       "<style scoped>\n",
       "    .dataframe tbody tr th:only-of-type {\n",
       "        vertical-align: middle;\n",
       "    }\n",
       "\n",
       "    .dataframe tbody tr th {\n",
       "        vertical-align: top;\n",
       "    }\n",
       "\n",
       "    .dataframe thead th {\n",
       "        text-align: right;\n",
       "    }\n",
       "</style>\n",
       "<table border=\"1\" class=\"dataframe\">\n",
       "  <thead>\n",
       "    <tr style=\"text-align: right;\">\n",
       "      <th></th>\n",
       "      <th>COUNTRY</th>\n",
       "      <th>CODE_TIME</th>\n",
       "      <th>TIME</th>\n",
       "      <th>YEAR</th>\n",
       "      <th>MONTH</th>\n",
       "      <th>MONTH_NAME</th>\n",
       "      <th>PRODUCT</th>\n",
       "      <th>VALUE</th>\n",
       "      <th>DISPLAY_ORDER</th>\n",
       "      <th>yearToDate</th>\n",
       "      <th>share</th>\n",
       "    </tr>\n",
       "  </thead>\n",
       "  <tbody>\n",
       "    <tr>\n",
       "      <th>0</th>\n",
       "      <td>Australia</td>\n",
       "      <td>JAN2010</td>\n",
       "      <td>January 2010</td>\n",
       "      <td>2010</td>\n",
       "      <td>1</td>\n",
       "      <td>January</td>\n",
       "      <td>Hydro</td>\n",
       "      <td>990.728</td>\n",
       "      <td>1</td>\n",
       "      <td>16471.891</td>\n",
       "      <td>0.047771</td>\n",
       "    </tr>\n",
       "    <tr>\n",
       "      <th>1</th>\n",
       "      <td>Australia</td>\n",
       "      <td>JAN2010</td>\n",
       "      <td>January 2010</td>\n",
       "      <td>2010</td>\n",
       "      <td>1</td>\n",
       "      <td>January</td>\n",
       "      <td>Wind</td>\n",
       "      <td>409.469</td>\n",
       "      <td>2</td>\n",
       "      <td>4940.909</td>\n",
       "      <td>0.019744</td>\n",
       "    </tr>\n",
       "    <tr>\n",
       "      <th>2</th>\n",
       "      <td>Australia</td>\n",
       "      <td>JAN2010</td>\n",
       "      <td>January 2010</td>\n",
       "      <td>2010</td>\n",
       "      <td>1</td>\n",
       "      <td>January</td>\n",
       "      <td>Solar</td>\n",
       "      <td>49.216</td>\n",
       "      <td>3</td>\n",
       "      <td>908.238</td>\n",
       "      <td>0.002373</td>\n",
       "    </tr>\n",
       "    <tr>\n",
       "      <th>3</th>\n",
       "      <td>Australia</td>\n",
       "      <td>JAN2010</td>\n",
       "      <td>January 2010</td>\n",
       "      <td>2010</td>\n",
       "      <td>1</td>\n",
       "      <td>January</td>\n",
       "      <td>Geothermal</td>\n",
       "      <td>0.083</td>\n",
       "      <td>4</td>\n",
       "      <td>0.996</td>\n",
       "      <td>0.000004</td>\n",
       "    </tr>\n",
       "    <tr>\n",
       "      <th>4</th>\n",
       "      <td>Australia</td>\n",
       "      <td>JAN2010</td>\n",
       "      <td>January 2010</td>\n",
       "      <td>2010</td>\n",
       "      <td>1</td>\n",
       "      <td>January</td>\n",
       "      <td>Total combustible fuels</td>\n",
       "      <td>19289.730</td>\n",
       "      <td>7</td>\n",
       "      <td>214302.969</td>\n",
       "      <td>0.930108</td>\n",
       "    </tr>\n",
       "  </tbody>\n",
       "</table>\n",
       "</div>"
      ],
      "text/plain": [
       "     COUNTRY CODE_TIME          TIME  YEAR  MONTH MONTH_NAME  \\\n",
       "0  Australia   JAN2010  January 2010  2010      1    January   \n",
       "1  Australia   JAN2010  January 2010  2010      1    January   \n",
       "2  Australia   JAN2010  January 2010  2010      1    January   \n",
       "3  Australia   JAN2010  January 2010  2010      1    January   \n",
       "4  Australia   JAN2010  January 2010  2010      1    January   \n",
       "\n",
       "                   PRODUCT      VALUE  DISPLAY_ORDER  yearToDate     share  \n",
       "0                    Hydro    990.728              1   16471.891  0.047771  \n",
       "1                     Wind    409.469              2    4940.909  0.019744  \n",
       "2                    Solar     49.216              3     908.238  0.002373  \n",
       "3               Geothermal      0.083              4       0.996  0.000004  \n",
       "4  Total combustible fuels  19289.730              7  214302.969  0.930108  "
      ]
     },
     "execution_count": 7,
     "metadata": {},
     "output_type": "execute_result"
    }
   ],
   "source": [
    "df.head(5)"
   ]
  },
  {
   "cell_type": "markdown",
   "id": "72ca8650",
   "metadata": {},
   "source": [
    "### b) Clean data for analysis"
   ]
  },
  {
   "cell_type": "code",
   "execution_count": 8,
   "id": "e3b348d0",
   "metadata": {},
   "outputs": [
    {
     "data": {
      "text/plain": [
       "Index(['COUNTRY', 'CODE_TIME', 'TIME', 'YEAR', 'MONTH', 'MONTH_NAME',\n",
       "       'PRODUCT', 'VALUE', 'DISPLAY_ORDER', 'yearToDate', 'share'],\n",
       "      dtype='object')"
      ]
     },
     "execution_count": 8,
     "metadata": {},
     "output_type": "execute_result"
    }
   ],
   "source": [
    "df.columns"
   ]
  },
  {
   "cell_type": "code",
   "execution_count": 9,
   "id": "a0bd83b0",
   "metadata": {},
   "outputs": [
    {
     "data": {
      "text/plain": [
       "(181915, 11)"
      ]
     },
     "execution_count": 9,
     "metadata": {},
     "output_type": "execute_result"
    }
   ],
   "source": [
    "df.shape"
   ]
  },
  {
   "cell_type": "code",
   "execution_count": 10,
   "id": "fa6eb695",
   "metadata": {},
   "outputs": [
    {
     "data": {
      "text/plain": [
       "COUNTRY          0\n",
       "CODE_TIME        0\n",
       "TIME             0\n",
       "YEAR             0\n",
       "MONTH            0\n",
       "MONTH_NAME       0\n",
       "PRODUCT          0\n",
       "VALUE            0\n",
       "DISPLAY_ORDER    0\n",
       "yearToDate       0\n",
       "share            0\n",
       "dtype: int64"
      ]
     },
     "execution_count": 10,
     "metadata": {},
     "output_type": "execute_result"
    }
   ],
   "source": [
    "# Check for missing values\n",
    "\n",
    "df.isnull().sum()"
   ]
  },
  {
   "cell_type": "code",
   "execution_count": 11,
   "id": "66bdd1bc",
   "metadata": {},
   "outputs": [],
   "source": [
    "# duplicates check \n",
    "dups = df.duplicated()"
   ]
  },
  {
   "cell_type": "code",
   "execution_count": 12,
   "id": "3b66f8b0",
   "metadata": {},
   "outputs": [
    {
     "data": {
      "text/plain": [
       "(181915,)"
      ]
     },
     "execution_count": 12,
     "metadata": {},
     "output_type": "execute_result"
    }
   ],
   "source": [
    "dups.shape # none"
   ]
  },
  {
   "cell_type": "code",
   "execution_count": 13,
   "id": "0d3f3e45",
   "metadata": {},
   "outputs": [
    {
     "name": "stderr",
     "output_type": "stream",
     "text": [
      "C:\\Users\\rieke\\anaconda3\\lib\\site-packages\\seaborn\\distributions.py:2619: FutureWarning: `distplot` is a deprecated function and will be removed in a future version. Please adapt your code to use either `displot` (a figure-level function with similar flexibility) or `histplot` (an axes-level function for histograms).\n",
      "  warnings.warn(msg, FutureWarning)\n"
     ]
    },
    {
     "data": {
      "text/plain": [
       "<AxesSubplot:xlabel='VALUE', ylabel='Density'>"
      ]
     },
     "execution_count": 13,
     "metadata": {},
     "output_type": "execute_result"
    },
    {
     "data": {
      "image/png": "[encoded data removed]",
      "text/plain": [
       "<Figure size 640x480 with 1 Axes>"
      ]
     },
     "metadata": {},
     "output_type": "display_data"
    }
   ],
   "source": [
    "# check for extreme values\n",
    "sns.distplot(df['VALUE'], bins=25)"
   ]
  },
  {
   "cell_type": "code",
   "execution_count": 14,
   "id": "1799927e",
   "metadata": {},
   "outputs": [
    {
     "data": {
      "text/html": [
       "<div>\n",
       "<style scoped>\n",
       "    .dataframe tbody tr th:only-of-type {\n",
       "        vertical-align: middle;\n",
       "    }\n",
       "\n",
       "    .dataframe tbody tr th {\n",
       "        vertical-align: top;\n",
       "    }\n",
       "\n",
       "    .dataframe thead th {\n",
       "        text-align: right;\n",
       "    }\n",
       "</style>\n",
       "<table border=\"1\" class=\"dataframe\">\n",
       "  <thead>\n",
       "    <tr style=\"text-align: right;\">\n",
       "      <th></th>\n",
       "      <th>YEAR</th>\n",
       "      <th>MONTH</th>\n",
       "      <th>VALUE</th>\n",
       "      <th>DISPLAY_ORDER</th>\n",
       "      <th>yearToDate</th>\n",
       "      <th>share</th>\n",
       "    </tr>\n",
       "  </thead>\n",
       "  <tbody>\n",
       "    <tr>\n",
       "      <th>count</th>\n",
       "      <td>181915.000000</td>\n",
       "      <td>181915.000000</td>\n",
       "      <td>1.819150e+05</td>\n",
       "      <td>181915.000000</td>\n",
       "      <td>1.819150e+05</td>\n",
       "      <td>181915.000000</td>\n",
       "    </tr>\n",
       "    <tr>\n",
       "      <th>mean</th>\n",
       "      <td>2016.456818</td>\n",
       "      <td>6.498145</td>\n",
       "      <td>2.091292e+04</td>\n",
       "      <td>14.418410</td>\n",
       "      <td>2.509544e+05</td>\n",
       "      <td>0.289057</td>\n",
       "    </tr>\n",
       "    <tr>\n",
       "      <th>std</th>\n",
       "      <td>3.657532</td>\n",
       "      <td>3.452288</td>\n",
       "      <td>8.584724e+04</td>\n",
       "      <td>7.819235</td>\n",
       "      <td>1.026864e+06</td>\n",
       "      <td>0.427347</td>\n",
       "    </tr>\n",
       "    <tr>\n",
       "      <th>min</th>\n",
       "      <td>2010.000000</td>\n",
       "      <td>1.000000</td>\n",
       "      <td>-6.852344e+03</td>\n",
       "      <td>1.000000</td>\n",
       "      <td>-6.667000e+04</td>\n",
       "      <td>-4.649269</td>\n",
       "    </tr>\n",
       "    <tr>\n",
       "      <th>25%</th>\n",
       "      <td>2013.000000</td>\n",
       "      <td>3.000000</td>\n",
       "      <td>6.685189e+01</td>\n",
       "      <td>8.000000</td>\n",
       "      <td>8.831870e+02</td>\n",
       "      <td>0.009907</td>\n",
       "    </tr>\n",
       "    <tr>\n",
       "      <th>50%</th>\n",
       "      <td>2017.000000</td>\n",
       "      <td>6.000000</td>\n",
       "      <td>7.663990e+02</td>\n",
       "      <td>15.000000</td>\n",
       "      <td>9.558855e+03</td>\n",
       "      <td>0.082530</td>\n",
       "    </tr>\n",
       "    <tr>\n",
       "      <th>75%</th>\n",
       "      <td>2020.000000</td>\n",
       "      <td>9.000000</td>\n",
       "      <td>4.989495e+03</td>\n",
       "      <td>21.000000</td>\n",
       "      <td>5.927517e+04</td>\n",
       "      <td>0.511302</td>\n",
       "    </tr>\n",
       "    <tr>\n",
       "      <th>max</th>\n",
       "      <td>2022.000000</td>\n",
       "      <td>12.000000</td>\n",
       "      <td>1.001529e+06</td>\n",
       "      <td>27.000000</td>\n",
       "      <td>1.082156e+07</td>\n",
       "      <td>5.649269</td>\n",
       "    </tr>\n",
       "  </tbody>\n",
       "</table>\n",
       "</div>"
      ],
      "text/plain": [
       "                YEAR          MONTH         VALUE  DISPLAY_ORDER  \\\n",
       "count  181915.000000  181915.000000  1.819150e+05  181915.000000   \n",
       "mean     2016.456818       6.498145  2.091292e+04      14.418410   \n",
       "std         3.657532       3.452288  8.584724e+04       7.819235   \n",
       "min      2010.000000       1.000000 -6.852344e+03       1.000000   \n",
       "25%      2013.000000       3.000000  6.685189e+01       8.000000   \n",
       "50%      2017.000000       6.000000  7.663990e+02      15.000000   \n",
       "75%      2020.000000       9.000000  4.989495e+03      21.000000   \n",
       "max      2022.000000      12.000000  1.001529e+06      27.000000   \n",
       "\n",
       "         yearToDate          share  \n",
       "count  1.819150e+05  181915.000000  \n",
       "mean   2.509544e+05       0.289057  \n",
       "std    1.026864e+06       0.427347  \n",
       "min   -6.667000e+04      -4.649269  \n",
       "25%    8.831870e+02       0.009907  \n",
       "50%    9.558855e+03       0.082530  \n",
       "75%    5.927517e+04       0.511302  \n",
       "max    1.082156e+07       5.649269  "
      ]
     },
     "execution_count": 14,
     "metadata": {},
     "output_type": "execute_result"
    }
   ],
   "source": [
    "df.describe()"
   ]
  },
  {
   "cell_type": "code",
   "execution_count": 15,
   "id": "9b7d7c05",
   "metadata": {},
   "outputs": [],
   "source": [
    "# exclude (delete) values <0, because it is unusual that a source is producing negative energy values\n",
    "df = df[df['VALUE'] > 0] "
   ]
  },
  {
   "cell_type": "code",
   "execution_count": 16,
   "id": "990f78b0",
   "metadata": {},
   "outputs": [
    {
     "data": {
      "text/plain": [
       "(164842, 11)"
      ]
     },
     "execution_count": 16,
     "metadata": {},
     "output_type": "execute_result"
    }
   ],
   "source": [
    "df.shape # 17.073 values excluded from file"
   ]
  },
  {
   "cell_type": "markdown",
   "id": "7b228733",
   "metadata": {},
   "source": [
    "### c) exploring data visually - find variables"
   ]
  },
  {
   "cell_type": "code",
   "execution_count": 17,
   "id": "df86e7ac",
   "metadata": {},
   "outputs": [
    {
     "data": {
      "image/png": "[encoded data removed]",
      "text/plain": [
       "<Figure size 640x480 with 1 Axes>"
      ]
     },
     "metadata": {},
     "output_type": "display_data"
    }
   ],
   "source": [
    "# Create a scatterplot \n",
    "\n",
    "df.plot(x = 'VALUE', y='share',style='o') # The style option creates a scatterplot; without it, we only have lines.\n",
    "plt.title('generated values vs share')  \n",
    "plt.xlabel('value')  \n",
    "plt.ylabel('share')  \n",
    "plt.show()"
   ]
  },
  {
   "cell_type": "markdown",
   "id": "7daac77c",
   "metadata": {},
   "source": [
    "we know that share is calculated from the total value by country."
   ]
  },
  {
   "cell_type": "markdown",
   "id": "81a28119",
   "metadata": {},
   "source": [
    "### d) generate hypotesis"
   ]
  },
  {
   "cell_type": "markdown",
   "id": "5766c3db",
   "metadata": {},
   "source": [
    "The more energy productions a Country is having, the higher energy values are produced"
   ]
  },
  {
   "cell_type": "markdown",
   "id": "53b7771c",
   "metadata": {},
   "source": [
    "### e.1) reshaping variables "
   ]
  },
  {
   "cell_type": "code",
   "execution_count": 18,
   "id": "73453f89",
   "metadata": {},
   "outputs": [],
   "source": [
    "# create dummies on categorical data for regression purpose\n",
    "X = df[['COUNTRY', 'PRODUCT']]"
   ]
  },
  {
   "cell_type": "code",
   "execution_count": 19,
   "id": "4a33d99c",
   "metadata": {},
   "outputs": [
    {
     "data": {
      "text/html": [
       "<div>\n",
       "<style scoped>\n",
       "    .dataframe tbody tr th:only-of-type {\n",
       "        vertical-align: middle;\n",
       "    }\n",
       "\n",
       "    .dataframe tbody tr th {\n",
       "        vertical-align: top;\n",
       "    }\n",
       "\n",
       "    .dataframe thead th {\n",
       "        text-align: right;\n",
       "    }\n",
       "</style>\n",
       "<table border=\"1\" class=\"dataframe\">\n",
       "  <thead>\n",
       "    <tr style=\"text-align: right;\">\n",
       "      <th></th>\n",
       "      <th>COUNTRY_Australia</th>\n",
       "      <th>COUNTRY_Austria</th>\n",
       "      <th>COUNTRY_Belgium</th>\n",
       "      <th>COUNTRY_Brazil</th>\n",
       "      <th>COUNTRY_Bulgaria</th>\n",
       "      <th>COUNTRY_Canada</th>\n",
       "      <th>COUNTRY_Chile</th>\n",
       "      <th>COUNTRY_Colombia</th>\n",
       "      <th>COUNTRY_Costa Rica</th>\n",
       "      <th>COUNTRY_Croatia</th>\n",
       "      <th>...</th>\n",
       "      <th>PRODUCT_Other renewables</th>\n",
       "      <th>PRODUCT_Other renewables aggregated</th>\n",
       "      <th>PRODUCT_Others</th>\n",
       "      <th>PRODUCT_Renewables</th>\n",
       "      <th>PRODUCT_Solar</th>\n",
       "      <th>PRODUCT_Total combustible fuels</th>\n",
       "      <th>PRODUCT_Total exports</th>\n",
       "      <th>PRODUCT_Total imports</th>\n",
       "      <th>PRODUCT_Used for pumped storage</th>\n",
       "      <th>PRODUCT_Wind</th>\n",
       "    </tr>\n",
       "  </thead>\n",
       "  <tbody>\n",
       "    <tr>\n",
       "      <th>0</th>\n",
       "      <td>1</td>\n",
       "      <td>0</td>\n",
       "      <td>0</td>\n",
       "      <td>0</td>\n",
       "      <td>0</td>\n",
       "      <td>0</td>\n",
       "      <td>0</td>\n",
       "      <td>0</td>\n",
       "      <td>0</td>\n",
       "      <td>0</td>\n",
       "      <td>...</td>\n",
       "      <td>0</td>\n",
       "      <td>0</td>\n",
       "      <td>0</td>\n",
       "      <td>0</td>\n",
       "      <td>0</td>\n",
       "      <td>0</td>\n",
       "      <td>0</td>\n",
       "      <td>0</td>\n",
       "      <td>0</td>\n",
       "      <td>0</td>\n",
       "    </tr>\n",
       "    <tr>\n",
       "      <th>1</th>\n",
       "      <td>1</td>\n",
       "      <td>0</td>\n",
       "      <td>0</td>\n",
       "      <td>0</td>\n",
       "      <td>0</td>\n",
       "      <td>0</td>\n",
       "      <td>0</td>\n",
       "      <td>0</td>\n",
       "      <td>0</td>\n",
       "      <td>0</td>\n",
       "      <td>...</td>\n",
       "      <td>0</td>\n",
       "      <td>0</td>\n",
       "      <td>0</td>\n",
       "      <td>0</td>\n",
       "      <td>0</td>\n",
       "      <td>0</td>\n",
       "      <td>0</td>\n",
       "      <td>0</td>\n",
       "      <td>0</td>\n",
       "      <td>1</td>\n",
       "    </tr>\n",
       "    <tr>\n",
       "      <th>2</th>\n",
       "      <td>1</td>\n",
       "      <td>0</td>\n",
       "      <td>0</td>\n",
       "      <td>0</td>\n",
       "      <td>0</td>\n",
       "      <td>0</td>\n",
       "      <td>0</td>\n",
       "      <td>0</td>\n",
       "      <td>0</td>\n",
       "      <td>0</td>\n",
       "      <td>...</td>\n",
       "      <td>0</td>\n",
       "      <td>0</td>\n",
       "      <td>0</td>\n",
       "      <td>0</td>\n",
       "      <td>1</td>\n",
       "      <td>0</td>\n",
       "      <td>0</td>\n",
       "      <td>0</td>\n",
       "      <td>0</td>\n",
       "      <td>0</td>\n",
       "    </tr>\n",
       "    <tr>\n",
       "      <th>3</th>\n",
       "      <td>1</td>\n",
       "      <td>0</td>\n",
       "      <td>0</td>\n",
       "      <td>0</td>\n",
       "      <td>0</td>\n",
       "      <td>0</td>\n",
       "      <td>0</td>\n",
       "      <td>0</td>\n",
       "      <td>0</td>\n",
       "      <td>0</td>\n",
       "      <td>...</td>\n",
       "      <td>0</td>\n",
       "      <td>0</td>\n",
       "      <td>0</td>\n",
       "      <td>0</td>\n",
       "      <td>0</td>\n",
       "      <td>0</td>\n",
       "      <td>0</td>\n",
       "      <td>0</td>\n",
       "      <td>0</td>\n",
       "      <td>0</td>\n",
       "    </tr>\n",
       "    <tr>\n",
       "      <th>4</th>\n",
       "      <td>1</td>\n",
       "      <td>0</td>\n",
       "      <td>0</td>\n",
       "      <td>0</td>\n",
       "      <td>0</td>\n",
       "      <td>0</td>\n",
       "      <td>0</td>\n",
       "      <td>0</td>\n",
       "      <td>0</td>\n",
       "      <td>0</td>\n",
       "      <td>...</td>\n",
       "      <td>0</td>\n",
       "      <td>0</td>\n",
       "      <td>0</td>\n",
       "      <td>0</td>\n",
       "      <td>0</td>\n",
       "      <td>1</td>\n",
       "      <td>0</td>\n",
       "      <td>0</td>\n",
       "      <td>0</td>\n",
       "      <td>0</td>\n",
       "    </tr>\n",
       "  </tbody>\n",
       "</table>\n",
       "<p>5 rows × 77 columns</p>\n",
       "</div>"
      ],
      "text/plain": [
       "   COUNTRY_Australia  COUNTRY_Austria  COUNTRY_Belgium  COUNTRY_Brazil  \\\n",
       "0                  1                0                0               0   \n",
       "1                  1                0                0               0   \n",
       "2                  1                0                0               0   \n",
       "3                  1                0                0               0   \n",
       "4                  1                0                0               0   \n",
       "\n",
       "   COUNTRY_Bulgaria  COUNTRY_Canada  COUNTRY_Chile  COUNTRY_Colombia  \\\n",
       "0                 0               0              0                 0   \n",
       "1                 0               0              0                 0   \n",
       "2                 0               0              0                 0   \n",
       "3                 0               0              0                 0   \n",
       "4                 0               0              0                 0   \n",
       "\n",
       "   COUNTRY_Costa Rica  COUNTRY_Croatia  ...  PRODUCT_Other renewables  \\\n",
       "0                   0                0  ...                         0   \n",
       "1                   0                0  ...                         0   \n",
       "2                   0                0  ...                         0   \n",
       "3                   0                0  ...                         0   \n",
       "4                   0                0  ...                         0   \n",
       "\n",
       "   PRODUCT_Other renewables aggregated  PRODUCT_Others  PRODUCT_Renewables  \\\n",
       "0                                    0               0                   0   \n",
       "1                                    0               0                   0   \n",
       "2                                    0               0                   0   \n",
       "3                                    0               0                   0   \n",
       "4                                    0               0                   0   \n",
       "\n",
       "   PRODUCT_Solar  PRODUCT_Total combustible fuels  PRODUCT_Total exports  \\\n",
       "0              0                                0                      0   \n",
       "1              0                                0                      0   \n",
       "2              1                                0                      0   \n",
       "3              0                                0                      0   \n",
       "4              0                                1                      0   \n",
       "\n",
       "   PRODUCT_Total imports  PRODUCT_Used for pumped storage  PRODUCT_Wind  \n",
       "0                      0                                0             0  \n",
       "1                      0                                0             1  \n",
       "2                      0                                0             0  \n",
       "3                      0                                0             0  \n",
       "4                      0                                0             0  \n",
       "\n",
       "[5 rows x 77 columns]"
      ]
     },
     "execution_count": 19,
     "metadata": {},
     "output_type": "execute_result"
    }
   ],
   "source": [
    "X = pd.get_dummies(data=X, drop_first=True)\n",
    "X.head()"
   ]
  },
  {
   "cell_type": "code",
   "execution_count": 20,
   "id": "2febefd3",
   "metadata": {
    "scrolled": true
   },
   "outputs": [
    {
     "data": {
      "text/plain": [
       "0      990.728\n",
       "1      409.469\n",
       "2       49.216\n",
       "3        0.083\n",
       "4    19289.730\n",
       "Name: VALUE, dtype: float64"
      ]
     },
     "execution_count": 20,
     "metadata": {},
     "output_type": "execute_result"
    }
   ],
   "source": [
    "y = df['VALUE']\n",
    "y.head()"
   ]
  },
  {
   "cell_type": "markdown",
   "id": "cda660c4",
   "metadata": {},
   "source": [
    "### e.2) reshaping with group by"
   ]
  },
  {
   "cell_type": "code",
   "execution_count": 21,
   "id": "d74d090b",
   "metadata": {},
   "outputs": [
    {
     "name": "stdout",
     "output_type": "stream",
     "text": [
      "                COUNTRY  count_of_sources     mean_value\n",
      "0             Argentina              1757    4154.240981\n",
      "1             Australia              3042    7173.119007\n",
      "2               Austria              3781    1655.600531\n",
      "3               Belgium              3795    1976.940823\n",
      "4                Brazil              1800   16169.329967\n",
      "5              Bulgaria              2283     953.597112\n",
      "6                Canada              3997   12823.292527\n",
      "7                 Chile              2915    2228.540940\n",
      "8              Colombia              2155    2056.573520\n",
      "9            Costa Rica               463     332.667660\n",
      "10              Croatia              2022     424.329304\n",
      "11               Cyprus              1392     205.553020\n",
      "12       Czech Republic              3900    1823.639557\n",
      "13              Denmark              3321     953.832905\n",
      "14              Estonia              3272     299.961576\n",
      "15              Finland              3584    1838.631941\n",
      "16               France              4181   10368.347009\n",
      "17              Germany              4030   12991.389022\n",
      "18               Greece              3442    1373.279102\n",
      "19              Hungary              3606     908.018356\n",
      "20            IEA Total              4106  221569.210389\n",
      "21              Iceland              2304     650.996761\n",
      "22                India              1785   43232.382063\n",
      "23              Ireland              3459     753.489612\n",
      "24                Italy              3744    7099.669833\n",
      "25                Japan              3565   26275.848588\n",
      "26                Korea              3543   13218.080489\n",
      "27               Latvia              2792     225.859099\n",
      "28            Lithuania              3383     223.389425\n",
      "29           Luxembourg              3168     153.901261\n",
      "30                Malta              1389      78.851550\n",
      "31               Mexico              3706    7550.250109\n",
      "32          Netherlands              3626    2949.379735\n",
      "33          New Zealand              3109    1145.713947\n",
      "34      North Macedonia              1801     173.901432\n",
      "35               Norway              3583    3186.137967\n",
      "36        OECD Americas              4066  111356.210685\n",
      "37    OECD Asia Oceania              3708   44737.785352\n",
      "38          OECD Europe              4079   74967.363060\n",
      "39           OECD Total              4103  225301.921667\n",
      "40               Poland              3586    3946.811913\n",
      "41             Portugal              3699    1281.220760\n",
      "42  Republic of Turkiye              3602    6407.709117\n",
      "43              Romania              2049    1403.595491\n",
      "44               Serbia              2026     927.981608\n",
      "45      Slovak Republic              3730     665.828154\n",
      "46             Slovenia              3636     403.662431\n",
      "47                Spain              3861    6061.038089\n",
      "48               Sweden              3726    3484.563242\n",
      "49          Switzerland              3504    1754.882535\n",
      "50       United Kingdom              3761    7782.776622\n",
      "51        United States              3905   92964.689224\n"
     ]
    }
   ],
   "source": [
    "df1 = df.groupby('COUNTRY').agg({'PRODUCT':'count', 'VALUE':'mean'})\\\n",
    ".rename(columns={'PRODUCT':'count_of_sources','VALUE':'mean_value'})\\\n",
    ".reset_index()\n",
    "print (df1)"
   ]
  },
  {
   "cell_type": "code",
   "execution_count": 22,
   "id": "2a86ce55",
   "metadata": {},
   "outputs": [],
   "source": [
    "# deleting geographical region summaries to exclude outliers and see the single countries only\n",
    "list1 = ['IEA Total', 'OECD Americas', 'OECD Asia Oceania', 'OECD Europe', 'OECD Total']"
   ]
  },
  {
   "cell_type": "code",
   "execution_count": 23,
   "id": "6397b1e5",
   "metadata": {},
   "outputs": [
    {
     "name": "stdout",
     "output_type": "stream",
     "text": [
      "                COUNTRY  count_of_sources    mean_value\n",
      "0             Argentina              1757   4154.240981\n",
      "1             Australia              3042   7173.119007\n",
      "2               Austria              3781   1655.600531\n",
      "3               Belgium              3795   1976.940823\n",
      "4                Brazil              1800  16169.329967\n",
      "5              Bulgaria              2283    953.597112\n",
      "6                Canada              3997  12823.292527\n",
      "7                 Chile              2915   2228.540940\n",
      "8              Colombia              2155   2056.573520\n",
      "9            Costa Rica               463    332.667660\n",
      "10              Croatia              2022    424.329304\n",
      "11               Cyprus              1392    205.553020\n",
      "12       Czech Republic              3900   1823.639557\n",
      "13              Denmark              3321    953.832905\n",
      "14              Estonia              3272    299.961576\n",
      "15              Finland              3584   1838.631941\n",
      "16               France              4181  10368.347009\n",
      "17              Germany              4030  12991.389022\n",
      "18               Greece              3442   1373.279102\n",
      "19              Hungary              3606    908.018356\n",
      "21              Iceland              2304    650.996761\n",
      "22                India              1785  43232.382063\n",
      "23              Ireland              3459    753.489612\n",
      "24                Italy              3744   7099.669833\n",
      "25                Japan              3565  26275.848588\n",
      "26                Korea              3543  13218.080489\n",
      "27               Latvia              2792    225.859099\n",
      "28            Lithuania              3383    223.389425\n",
      "29           Luxembourg              3168    153.901261\n",
      "30                Malta              1389     78.851550\n",
      "31               Mexico              3706   7550.250109\n",
      "32          Netherlands              3626   2949.379735\n",
      "33          New Zealand              3109   1145.713947\n",
      "34      North Macedonia              1801    173.901432\n",
      "35               Norway              3583   3186.137967\n",
      "40               Poland              3586   3946.811913\n",
      "41             Portugal              3699   1281.220760\n",
      "42  Republic of Turkiye              3602   6407.709117\n",
      "43              Romania              2049   1403.595491\n",
      "44               Serbia              2026    927.981608\n",
      "45      Slovak Republic              3730    665.828154\n",
      "46             Slovenia              3636    403.662431\n",
      "47                Spain              3861   6061.038089\n",
      "48               Sweden              3726   3484.563242\n",
      "49          Switzerland              3504   1754.882535\n",
      "50       United Kingdom              3761   7782.776622\n",
      "51        United States              3905  92964.689224\n"
     ]
    }
   ],
   "source": [
    "print(df1[df1.COUNTRY.isin(list1) == False])"
   ]
  },
  {
   "cell_type": "code",
   "execution_count": 25,
   "id": "faddb159",
   "metadata": {},
   "outputs": [],
   "source": [
    "df1.to_excel(os.path.join(path, '02 Prepared Data', 'grouped data 2010-2022.xlsx'))"
   ]
  },
  {
   "cell_type": "markdown",
   "id": "5658f2a8",
   "metadata": {},
   "source": [
    "### f) Split data set into training & test set"
   ]
  },
  {
   "cell_type": "code",
   "execution_count": 36,
   "id": "92d172d3",
   "metadata": {},
   "outputs": [
    {
     "name": "stdout",
     "output_type": "stream",
     "text": [
      "(115389, 77)\n",
      "(49453, 77)\n",
      "(115389,)\n",
      "(49453,)\n"
     ]
    }
   ],
   "source": [
    "X_train, X_test, y_train, y_test = train_test_split(X, y, test_size=0.3, random_state=0)\n",
    "print(X_train.shape)\n",
    "print(X_test.shape)\n",
    "print(y_train.shape)\n",
    "print(y_test.shape)"
   ]
  },
  {
   "cell_type": "markdown",
   "id": "185ee56a",
   "metadata": {},
   "source": [
    "### g) running linear regression"
   ]
  },
  {
   "cell_type": "code",
   "execution_count": 22,
   "id": "a2683395",
   "metadata": {},
   "outputs": [
    {
     "data": {
      "text/plain": [
       "LinearRegression()"
      ]
     },
     "execution_count": 22,
     "metadata": {},
     "output_type": "execute_result"
    }
   ],
   "source": [
    "# create regression object\n",
    "model = LinearRegression()\n",
    "\n",
    "# fit regression object\n",
    "model.fit(X_train,y_train)"
   ]
  },
  {
   "cell_type": "code",
   "execution_count": 23,
   "id": "945bc763",
   "metadata": {},
   "outputs": [
    {
     "name": "stdout",
     "output_type": "stream",
     "text": [
      "-1813.250899237435\n"
     ]
    }
   ],
   "source": [
    "# print the intercept\n",
    "print(model.intercept_)"
   ]
  },
  {
   "cell_type": "code",
   "execution_count": 24,
   "id": "0aef053f",
   "metadata": {},
   "outputs": [
    {
     "data": {
      "text/plain": [
       "array([  7999.50566388, -17336.7467931 ,  -2830.35525063, ...,\n",
       "       -11400.05811692, 119579.50166839,  73454.04559511])"
      ]
     },
     "execution_count": 24,
     "metadata": {},
     "output_type": "execute_result"
    }
   ],
   "source": [
    "# create prediction for y\n",
    "predictions = model.predict(X_test)\n",
    "predictions"
   ]
  },
  {
   "cell_type": "markdown",
   "id": "75c1e68b",
   "metadata": {},
   "source": [
    "### h) Plot with regression line on test set + interpretation"
   ]
  },
  {
   "cell_type": "code",
   "execution_count": 25,
   "id": "c37a9729",
   "metadata": {},
   "outputs": [
    {
     "name": "stderr",
     "output_type": "stream",
     "text": [
      "C:\\Users\\rieke\\anaconda3\\lib\\site-packages\\seaborn\\_decorators.py:36: FutureWarning: Pass the following variables as keyword args: x, y. From version 0.12, the only valid positional argument will be `data`, and passing other arguments without an explicit keyword will result in an error or misinterpretation.\n",
      "  warnings.warn(\n"
     ]
    },
    {
     "data": {
      "text/plain": [
       "<AxesSubplot:xlabel='VALUE'>"
      ]
     },
     "execution_count": 25,
     "metadata": {},
     "output_type": "execute_result"
    },
    {
     "data": {
      "image/png": "[encoded data removed]",
      "text/plain": [
       "<Figure size 640x480 with 1 Axes>"
      ]
     },
     "metadata": {},
     "output_type": "display_data"
    }
   ],
   "source": [
    "sns.regplot(y_test,predictions)"
   ]
  },
  {
   "cell_type": "markdown",
   "id": "12bb56e2",
   "metadata": {},
   "source": [
    "#### Interpretation"
   ]
  },
  {
   "cell_type": "markdown",
   "id": "ad288630",
   "metadata": {},
   "source": [
    "the regression line is not a good fit to the data, what might depend on the used dummies for the involved categorical data"
   ]
  },
  {
   "cell_type": "markdown",
   "id": "3d55716c",
   "metadata": {},
   "source": [
    "### i) checking model performance statistics (MSE & R2), compare predicted & actual values"
   ]
  },
  {
   "cell_type": "code",
   "execution_count": 26,
   "id": "f4d7941a",
   "metadata": {},
   "outputs": [],
   "source": [
    "# Create objects that contain the model summary statistics.\n",
    "\n",
    "rmse = mean_squared_error(y_test, predictions) # This is the mean squared error\n",
    "r2 = r2_score(y_test, predictions) # This is the R2 score. "
   ]
  },
  {
   "cell_type": "code",
   "execution_count": 27,
   "id": "d862942a",
   "metadata": {},
   "outputs": [
    {
     "name": "stdout",
     "output_type": "stream",
     "text": [
      "Slope: [ 5.41346813e+03  5.60535473e+03  4.91219743e+03  1.37462536e+04\n",
      "  4.06923933e+03  1.84178066e+04 -1.12282389e+03 -5.22266574e+02\n",
      "  5.04299441e+02  1.23251314e+03 -6.40288396e+03  4.71357602e+03\n",
      " -1.34496258e+01 -6.23367205e+02  3.38956691e+03  1.85845737e+04\n",
      "  1.81266985e+04  1.86685519e+03  2.92943385e+03  2.31456701e+05\n",
      " -5.47494552e+03  3.99369933e+04  1.04702278e+03  1.12748107e+04\n",
      "  2.92476675e+04  1.71279483e+04 -4.05570322e+03  1.61884067e+03\n",
      " -3.24219008e+02 -7.63488895e+03  1.00052911e+04  4.01179008e+03\n",
      "  7.21242078e+02 -3.02800293e+03  5.24208668e+03  1.17708823e+05\n",
      "  5.10008840e+04  8.42867283e+04  2.34207604e+05  6.36842010e+03\n",
      "  4.64059054e+03  8.76742967e+03  8.77870820e+02  8.67247633e+02\n",
      "  3.12591358e+03  1.69725148e+03  9.80523166e+03  5.18584870e+03\n",
      "  2.85817626e+03  1.26856476e+04  9.95130900e+04 -1.94349109e+04\n",
      " -1.61533612e+04  5.68494899e+04 -1.85215877e+04  5.44457597e+04\n",
      "  2.34124722e+04 -4.97282990e+04 -1.01560163e+04  1.30860763e+04\n",
      " -8.83967116e+02  5.57563726e+04  3.71060243e+04 -3.58775892e+04\n",
      " -1.26830717e+04 -1.96882330e+04 -2.73180944e+04 -8.78790733e+04\n",
      " -1.78575916e+04 -1.84168581e+04 -6.11925704e+02 -2.00619922e+04\n",
      "  2.47253839e+04 -1.97004806e+04 -1.83542369e+04 -2.91745461e+04\n",
      " -1.67560090e+04]\n",
      "Mean squared error:  4451707009.59733\n",
      "R2 score:  0.431609467284353\n"
     ]
    }
   ],
   "source": [
    "# Print the model summary statistics. \n",
    "\n",
    "print('Slope:' ,model.coef_)\n",
    "print('Mean squared error: ', rmse)\n",
    "print('R2 score: ', r2)"
   ]
  },
  {
   "cell_type": "code",
   "execution_count": 28,
   "id": "97ffee70",
   "metadata": {},
   "outputs": [
    {
     "data": {
      "text/plain": [
       "array([  7999.50566388, -17336.7467931 ,  -2830.35525063, ...,\n",
       "       -11400.05811692, 119579.50166839,  73454.04559511])"
      ]
     },
     "execution_count": 28,
     "metadata": {},
     "output_type": "execute_result"
    }
   ],
   "source": [
    "predictions"
   ]
  },
  {
   "cell_type": "code",
   "execution_count": 29,
   "id": "1487cd41",
   "metadata": {},
   "outputs": [
    {
     "data": {
      "text/html": [
       "<div>\n",
       "<style scoped>\n",
       "    .dataframe tbody tr th:only-of-type {\n",
       "        vertical-align: middle;\n",
       "    }\n",
       "\n",
       "    .dataframe tbody tr th {\n",
       "        vertical-align: top;\n",
       "    }\n",
       "\n",
       "    .dataframe thead th {\n",
       "        text-align: right;\n",
       "    }\n",
       "</style>\n",
       "<table border=\"1\" class=\"dataframe\">\n",
       "  <thead>\n",
       "    <tr style=\"text-align: right;\">\n",
       "      <th></th>\n",
       "      <th>Actual</th>\n",
       "      <th>Predicted</th>\n",
       "    </tr>\n",
       "  </thead>\n",
       "  <tbody>\n",
       "    <tr>\n",
       "      <th>156147</th>\n",
       "      <td>2516.107864</td>\n",
       "      <td>7999.505664</td>\n",
       "    </tr>\n",
       "    <tr>\n",
       "      <th>123984</th>\n",
       "      <td>122.100732</td>\n",
       "      <td>-17336.746793</td>\n",
       "    </tr>\n",
       "    <tr>\n",
       "      <th>32913</th>\n",
       "      <td>798.049000</td>\n",
       "      <td>-2830.355251</td>\n",
       "    </tr>\n",
       "    <tr>\n",
       "      <th>107032</th>\n",
       "      <td>1107.152604</td>\n",
       "      <td>-11370.409057</td>\n",
       "    </tr>\n",
       "    <tr>\n",
       "      <th>161598</th>\n",
       "      <td>4712.347626</td>\n",
       "      <td>193765.861001</td>\n",
       "    </tr>\n",
       "    <tr>\n",
       "      <th>34676</th>\n",
       "      <td>144.589000</td>\n",
       "      <td>-23945.496643</td>\n",
       "    </tr>\n",
       "    <tr>\n",
       "      <th>113324</th>\n",
       "      <td>1556.162980</td>\n",
       "      <td>23959.155812</td>\n",
       "    </tr>\n",
       "    <tr>\n",
       "      <th>130167</th>\n",
       "      <td>516.272652</td>\n",
       "      <td>-13327.173252</td>\n",
       "    </tr>\n",
       "    <tr>\n",
       "      <th>142322</th>\n",
       "      <td>27812.034454</td>\n",
       "      <td>40040.081299</td>\n",
       "    </tr>\n",
       "    <tr>\n",
       "      <th>179955</th>\n",
       "      <td>826.836257</td>\n",
       "      <td>24988.788195</td>\n",
       "    </tr>\n",
       "    <tr>\n",
       "      <th>15024</th>\n",
       "      <td>644.056000</td>\n",
       "      <td>-17501.941440</td>\n",
       "    </tr>\n",
       "    <tr>\n",
       "      <th>59433</th>\n",
       "      <td>14300.007000</td>\n",
       "      <td>21078.057099</td>\n",
       "    </tr>\n",
       "    <tr>\n",
       "      <th>160688</th>\n",
       "      <td>524.140124</td>\n",
       "      <td>46595.888142</td>\n",
       "    </tr>\n",
       "    <tr>\n",
       "      <th>139807</th>\n",
       "      <td>2.917310</td>\n",
       "      <td>-16633.156376</td>\n",
       "    </tr>\n",
       "    <tr>\n",
       "      <th>16587</th>\n",
       "      <td>75.117000</td>\n",
       "      <td>10649.458237</td>\n",
       "    </tr>\n",
       "    <tr>\n",
       "      <th>86167</th>\n",
       "      <td>991.663000</td>\n",
       "      <td>-6483.855368</td>\n",
       "    </tr>\n",
       "    <tr>\n",
       "      <th>161882</th>\n",
       "      <td>204.186312</td>\n",
       "      <td>13964.332333</td>\n",
       "    </tr>\n",
       "    <tr>\n",
       "      <th>61082</th>\n",
       "      <td>6572.876000</td>\n",
       "      <td>6615.306443</td>\n",
       "    </tr>\n",
       "    <tr>\n",
       "      <th>118979</th>\n",
       "      <td>113.338746</td>\n",
       "      <td>-16347.771458</td>\n",
       "    </tr>\n",
       "    <tr>\n",
       "      <th>84670</th>\n",
       "      <td>482.558000</td>\n",
       "      <td>-20646.483891</td>\n",
       "    </tr>\n",
       "    <tr>\n",
       "      <th>54413</th>\n",
       "      <td>5001.796000</td>\n",
       "      <td>16878.180174</td>\n",
       "    </tr>\n",
       "    <tr>\n",
       "      <th>63200</th>\n",
       "      <td>17138.378744</td>\n",
       "      <td>40706.241535</td>\n",
       "    </tr>\n",
       "    <tr>\n",
       "      <th>59591</th>\n",
       "      <td>46.213000</td>\n",
       "      <td>-23525.990612</td>\n",
       "    </tr>\n",
       "    <tr>\n",
       "      <th>158642</th>\n",
       "      <td>154.260569</td>\n",
       "      <td>-21871.529014</td>\n",
       "    </tr>\n",
       "    <tr>\n",
       "      <th>52742</th>\n",
       "      <td>544826.807000</td>\n",
       "      <td>253055.922414</td>\n",
       "    </tr>\n",
       "    <tr>\n",
       "      <th>150535</th>\n",
       "      <td>212.709762</td>\n",
       "      <td>-17856.534629</td>\n",
       "    </tr>\n",
       "    <tr>\n",
       "      <th>168597</th>\n",
       "      <td>1498.934167</td>\n",
       "      <td>-8443.172652</td>\n",
       "    </tr>\n",
       "    <tr>\n",
       "      <th>94364</th>\n",
       "      <td>1620.104000</td>\n",
       "      <td>-2164.035555</td>\n",
       "    </tr>\n",
       "    <tr>\n",
       "      <th>156998</th>\n",
       "      <td>6344.555303</td>\n",
       "      <td>-5924.588861</td>\n",
       "    </tr>\n",
       "    <tr>\n",
       "      <th>80327</th>\n",
       "      <td>148.065000</td>\n",
       "      <td>-21261.611434</td>\n",
       "    </tr>\n",
       "  </tbody>\n",
       "</table>\n",
       "</div>"
      ],
      "text/plain": [
       "               Actual      Predicted\n",
       "156147    2516.107864    7999.505664\n",
       "123984     122.100732  -17336.746793\n",
       "32913      798.049000   -2830.355251\n",
       "107032    1107.152604  -11370.409057\n",
       "161598    4712.347626  193765.861001\n",
       "34676      144.589000  -23945.496643\n",
       "113324    1556.162980   23959.155812\n",
       "130167     516.272652  -13327.173252\n",
       "142322   27812.034454   40040.081299\n",
       "179955     826.836257   24988.788195\n",
       "15024      644.056000  -17501.941440\n",
       "59433    14300.007000   21078.057099\n",
       "160688     524.140124   46595.888142\n",
       "139807       2.917310  -16633.156376\n",
       "16587       75.117000   10649.458237\n",
       "86167      991.663000   -6483.855368\n",
       "161882     204.186312   13964.332333\n",
       "61082     6572.876000    6615.306443\n",
       "118979     113.338746  -16347.771458\n",
       "84670      482.558000  -20646.483891\n",
       "54413     5001.796000   16878.180174\n",
       "63200    17138.378744   40706.241535\n",
       "59591       46.213000  -23525.990612\n",
       "158642     154.260569  -21871.529014\n",
       "52742   544826.807000  253055.922414\n",
       "150535     212.709762  -17856.534629\n",
       "168597    1498.934167   -8443.172652\n",
       "94364     1620.104000   -2164.035555\n",
       "156998    6344.555303   -5924.588861\n",
       "80327      148.065000  -21261.611434"
      ]
     },
     "execution_count": 29,
     "metadata": {},
     "output_type": "execute_result"
    }
   ],
   "source": [
    "# Create a dataframe comparing the actual and predicted values of y.\n",
    "\n",
    "data = pd.DataFrame({'Actual': y_test, 'Predicted': predictions})\n",
    "data.head(30)"
   ]
  },
  {
   "cell_type": "markdown",
   "id": "900c78e5",
   "metadata": {},
   "source": [
    "all visual as well as statistical details are far, far away from beeing a good fit \n",
    "ideas to improve the model\n",
    "- include latitude & longitude for hypothesis\n",
    "' The closer a country is to the Equator, the higher its produced energy value'\n",
    "\n",
    "- analyse kinds of energy production (here: PRODUCTS) seperately to go more in detail about the Countries and their energy-sourcing product of best fit for their geographical position"
   ]
  },
  {
   "cell_type": "code",
   "execution_count": null,
   "id": "84f58737",
   "metadata": {},
   "outputs": [],
   "source": []
  }
 ],
 "metadata": {
  "kernelspec": {
   "display_name": "Python 3 (ipykernel)",
   "language": "python",
   "name": "python3"
  },
  "language_info": {
   "codemirror_mode": {
    "name": "ipython",
    "version": 3
   },
   "file_extension": ".py",
   "mimetype": "text/x-python",
   "name": "python",
   "nbconvert_exporter": "python",
   "pygments_lexer": "ipython3",
   "version": "3.9.13"
  }
 },
 "nbformat": 4,
 "nbformat_minor": 5
}
